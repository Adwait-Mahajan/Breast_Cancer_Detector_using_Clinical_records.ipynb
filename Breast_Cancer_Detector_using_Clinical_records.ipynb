{
  "nbformat": 4,
  "nbformat_minor": 0,
  "metadata": {
    "colab": {
      "provenance": []
    },
    "kernelspec": {
      "name": "python3",
      "display_name": "Python 3"
    },
    "language_info": {
      "name": "python"
    }
  },
  "cells": [
    {
      "cell_type": "code",
      "metadata": {
        "id": "HjcUEKmiI6YW",
        "colab": {
          "base_uri": "https://localhost:8080/"
        },
        "outputId": "7e84e6d3-0488-41f7-d33b-e70c3ff003a8"
      },
      "source": [
        "!pip install kaggle --upgrade\n",
        "!mkdir -p ~/.kaggle/\n",
        "!cp kaggle.json ~/.kaggle/\n",
        "!chmod 600 ~/.kaggle/kaggle.json\n",
        "!kaggle datasets download -d iabhishekbhardwaj/breast-cancer-prediction"
      ],
      "execution_count": null,
      "outputs": [
        {
          "output_type": "stream",
          "text": [
            "Requirement already satisfied: kaggle in /usr/local/lib/python3.7/dist-packages (1.5.12)\n",
            "Requirement already satisfied: certifi in /usr/local/lib/python3.7/dist-packages (from kaggle) (2021.5.30)\n",
            "Requirement already satisfied: urllib3 in /usr/local/lib/python3.7/dist-packages (from kaggle) (1.24.3)\n",
            "Requirement already satisfied: six>=1.10 in /usr/local/lib/python3.7/dist-packages (from kaggle) (1.15.0)\n",
            "Requirement already satisfied: python-dateutil in /usr/local/lib/python3.7/dist-packages (from kaggle) (2.8.2)\n",
            "Requirement already satisfied: tqdm in /usr/local/lib/python3.7/dist-packages (from kaggle) (4.62.0)\n",
            "Requirement already satisfied: requests in /usr/local/lib/python3.7/dist-packages (from kaggle) (2.23.0)\n",
            "Requirement already satisfied: python-slugify in /usr/local/lib/python3.7/dist-packages (from kaggle) (5.0.2)\n",
            "Requirement already satisfied: text-unidecode>=1.3 in /usr/local/lib/python3.7/dist-packages (from python-slugify->kaggle) (1.3)\n",
            "Requirement already satisfied: idna<3,>=2.5 in /usr/local/lib/python3.7/dist-packages (from requests->kaggle) (2.10)\n",
            "Requirement already satisfied: chardet<4,>=3.0.2 in /usr/local/lib/python3.7/dist-packages (from requests->kaggle) (3.0.4)\n",
            "Downloading breast-cancer-prediction.zip to /content\n",
            "  0% 0.00/48.6k [00:00<?, ?B/s]\n",
            "100% 48.6k/48.6k [00:00<00:00, 18.7MB/s]\n"
          ],
          "name": "stdout"
        }
      ]
    },
    {
      "cell_type": "code",
      "metadata": {
        "id": "F8K8-_dsjkjS"
      },
      "source": [
        "import numpy as np\n",
        "import pandas as pd\n",
        "import seaborn as sns\n",
        "import matplotlib.pyplot as plt\n",
        "%matplotlib inline"
      ],
      "execution_count": null,
      "outputs": []
    },
    {
      "cell_type": "code",
      "metadata": {
        "colab": {
          "base_uri": "https://localhost:8080/"
        },
        "id": "sn4bjVeFj2RP",
        "outputId": "8cbeae1f-147c-4e8f-ae37-475ecfaf2fbb"
      },
      "source": [
        "!unzip /content/breast-cancer-prediction.zip"
      ],
      "execution_count": null,
      "outputs": [
        {
          "output_type": "stream",
          "text": [
            "Archive:  /content/breast-cancer-prediction.zip\n",
            "  inflating: data.csv                \n"
          ],
          "name": "stdout"
        }
      ]
    },
    {
      "cell_type": "code",
      "metadata": {
        "id": "4En8B-PInslj"
      },
      "source": [
        "df = pd.read_csv('/content/data.csv')"
      ],
      "execution_count": null,
      "outputs": []
    },
    {
      "cell_type": "code",
      "metadata": {
        "colab": {
          "base_uri": "https://localhost:8080/",
          "height": 241
        },
        "id": "QyZ6CUs9oSJA",
        "outputId": "669f4311-5759-422e-ab59-70072de11dc1"
      },
      "source": [
        "df.head()"
      ],
      "execution_count": null,
      "outputs": [
        {
          "output_type": "execute_result",
          "data": {
            "text/html": [
              "<div>\n",
              "<style scoped>\n",
              "    .dataframe tbody tr th:only-of-type {\n",
              "        vertical-align: middle;\n",
              "    }\n",
              "\n",
              "    .dataframe tbody tr th {\n",
              "        vertical-align: top;\n",
              "    }\n",
              "\n",
              "    .dataframe thead th {\n",
              "        text-align: right;\n",
              "    }\n",
              "</style>\n",
              "<table border=\"1\" class=\"dataframe\">\n",
              "  <thead>\n",
              "    <tr style=\"text-align: right;\">\n",
              "      <th></th>\n",
              "      <th>id</th>\n",
              "      <th>diagnosis</th>\n",
              "      <th>radius_mean</th>\n",
              "      <th>texture_mean</th>\n",
              "      <th>perimeter_mean</th>\n",
              "      <th>area_mean</th>\n",
              "      <th>smoothness_mean</th>\n",
              "      <th>compactness_mean</th>\n",
              "      <th>concavity_mean</th>\n",
              "      <th>concave points_mean</th>\n",
              "      <th>symmetry_mean</th>\n",
              "      <th>fractal_dimension_mean</th>\n",
              "      <th>radius_se</th>\n",
              "      <th>texture_se</th>\n",
              "      <th>perimeter_se</th>\n",
              "      <th>area_se</th>\n",
              "      <th>smoothness_se</th>\n",
              "      <th>compactness_se</th>\n",
              "      <th>concavity_se</th>\n",
              "      <th>concave points_se</th>\n",
              "      <th>symmetry_se</th>\n",
              "      <th>fractal_dimension_se</th>\n",
              "      <th>radius_worst</th>\n",
              "      <th>texture_worst</th>\n",
              "      <th>perimeter_worst</th>\n",
              "      <th>area_worst</th>\n",
              "      <th>smoothness_worst</th>\n",
              "      <th>compactness_worst</th>\n",
              "      <th>concavity_worst</th>\n",
              "      <th>concave points_worst</th>\n",
              "      <th>symmetry_worst</th>\n",
              "      <th>fractal_dimension_worst</th>\n",
              "      <th>Unnamed: 32</th>\n",
              "    </tr>\n",
              "  </thead>\n",
              "  <tbody>\n",
              "    <tr>\n",
              "      <th>0</th>\n",
              "      <td>842302</td>\n",
              "      <td>M</td>\n",
              "      <td>17.99</td>\n",
              "      <td>10.38</td>\n",
              "      <td>122.80</td>\n",
              "      <td>1001.0</td>\n",
              "      <td>0.11840</td>\n",
              "      <td>0.27760</td>\n",
              "      <td>0.3001</td>\n",
              "      <td>0.14710</td>\n",
              "      <td>0.2419</td>\n",
              "      <td>0.07871</td>\n",
              "      <td>1.0950</td>\n",
              "      <td>0.9053</td>\n",
              "      <td>8.589</td>\n",
              "      <td>153.40</td>\n",
              "      <td>0.006399</td>\n",
              "      <td>0.04904</td>\n",
              "      <td>0.05373</td>\n",
              "      <td>0.01587</td>\n",
              "      <td>0.03003</td>\n",
              "      <td>0.006193</td>\n",
              "      <td>25.38</td>\n",
              "      <td>17.33</td>\n",
              "      <td>184.60</td>\n",
              "      <td>2019.0</td>\n",
              "      <td>0.1622</td>\n",
              "      <td>0.6656</td>\n",
              "      <td>0.7119</td>\n",
              "      <td>0.2654</td>\n",
              "      <td>0.4601</td>\n",
              "      <td>0.11890</td>\n",
              "      <td>NaN</td>\n",
              "    </tr>\n",
              "    <tr>\n",
              "      <th>1</th>\n",
              "      <td>842517</td>\n",
              "      <td>M</td>\n",
              "      <td>20.57</td>\n",
              "      <td>17.77</td>\n",
              "      <td>132.90</td>\n",
              "      <td>1326.0</td>\n",
              "      <td>0.08474</td>\n",
              "      <td>0.07864</td>\n",
              "      <td>0.0869</td>\n",
              "      <td>0.07017</td>\n",
              "      <td>0.1812</td>\n",
              "      <td>0.05667</td>\n",
              "      <td>0.5435</td>\n",
              "      <td>0.7339</td>\n",
              "      <td>3.398</td>\n",
              "      <td>74.08</td>\n",
              "      <td>0.005225</td>\n",
              "      <td>0.01308</td>\n",
              "      <td>0.01860</td>\n",
              "      <td>0.01340</td>\n",
              "      <td>0.01389</td>\n",
              "      <td>0.003532</td>\n",
              "      <td>24.99</td>\n",
              "      <td>23.41</td>\n",
              "      <td>158.80</td>\n",
              "      <td>1956.0</td>\n",
              "      <td>0.1238</td>\n",
              "      <td>0.1866</td>\n",
              "      <td>0.2416</td>\n",
              "      <td>0.1860</td>\n",
              "      <td>0.2750</td>\n",
              "      <td>0.08902</td>\n",
              "      <td>NaN</td>\n",
              "    </tr>\n",
              "    <tr>\n",
              "      <th>2</th>\n",
              "      <td>84300903</td>\n",
              "      <td>M</td>\n",
              "      <td>19.69</td>\n",
              "      <td>21.25</td>\n",
              "      <td>130.00</td>\n",
              "      <td>1203.0</td>\n",
              "      <td>0.10960</td>\n",
              "      <td>0.15990</td>\n",
              "      <td>0.1974</td>\n",
              "      <td>0.12790</td>\n",
              "      <td>0.2069</td>\n",
              "      <td>0.05999</td>\n",
              "      <td>0.7456</td>\n",
              "      <td>0.7869</td>\n",
              "      <td>4.585</td>\n",
              "      <td>94.03</td>\n",
              "      <td>0.006150</td>\n",
              "      <td>0.04006</td>\n",
              "      <td>0.03832</td>\n",
              "      <td>0.02058</td>\n",
              "      <td>0.02250</td>\n",
              "      <td>0.004571</td>\n",
              "      <td>23.57</td>\n",
              "      <td>25.53</td>\n",
              "      <td>152.50</td>\n",
              "      <td>1709.0</td>\n",
              "      <td>0.1444</td>\n",
              "      <td>0.4245</td>\n",
              "      <td>0.4504</td>\n",
              "      <td>0.2430</td>\n",
              "      <td>0.3613</td>\n",
              "      <td>0.08758</td>\n",
              "      <td>NaN</td>\n",
              "    </tr>\n",
              "    <tr>\n",
              "      <th>3</th>\n",
              "      <td>84348301</td>\n",
              "      <td>M</td>\n",
              "      <td>11.42</td>\n",
              "      <td>20.38</td>\n",
              "      <td>77.58</td>\n",
              "      <td>386.1</td>\n",
              "      <td>0.14250</td>\n",
              "      <td>0.28390</td>\n",
              "      <td>0.2414</td>\n",
              "      <td>0.10520</td>\n",
              "      <td>0.2597</td>\n",
              "      <td>0.09744</td>\n",
              "      <td>0.4956</td>\n",
              "      <td>1.1560</td>\n",
              "      <td>3.445</td>\n",
              "      <td>27.23</td>\n",
              "      <td>0.009110</td>\n",
              "      <td>0.07458</td>\n",
              "      <td>0.05661</td>\n",
              "      <td>0.01867</td>\n",
              "      <td>0.05963</td>\n",
              "      <td>0.009208</td>\n",
              "      <td>14.91</td>\n",
              "      <td>26.50</td>\n",
              "      <td>98.87</td>\n",
              "      <td>567.7</td>\n",
              "      <td>0.2098</td>\n",
              "      <td>0.8663</td>\n",
              "      <td>0.6869</td>\n",
              "      <td>0.2575</td>\n",
              "      <td>0.6638</td>\n",
              "      <td>0.17300</td>\n",
              "      <td>NaN</td>\n",
              "    </tr>\n",
              "    <tr>\n",
              "      <th>4</th>\n",
              "      <td>84358402</td>\n",
              "      <td>M</td>\n",
              "      <td>20.29</td>\n",
              "      <td>14.34</td>\n",
              "      <td>135.10</td>\n",
              "      <td>1297.0</td>\n",
              "      <td>0.10030</td>\n",
              "      <td>0.13280</td>\n",
              "      <td>0.1980</td>\n",
              "      <td>0.10430</td>\n",
              "      <td>0.1809</td>\n",
              "      <td>0.05883</td>\n",
              "      <td>0.7572</td>\n",
              "      <td>0.7813</td>\n",
              "      <td>5.438</td>\n",
              "      <td>94.44</td>\n",
              "      <td>0.011490</td>\n",
              "      <td>0.02461</td>\n",
              "      <td>0.05688</td>\n",
              "      <td>0.01885</td>\n",
              "      <td>0.01756</td>\n",
              "      <td>0.005115</td>\n",
              "      <td>22.54</td>\n",
              "      <td>16.67</td>\n",
              "      <td>152.20</td>\n",
              "      <td>1575.0</td>\n",
              "      <td>0.1374</td>\n",
              "      <td>0.2050</td>\n",
              "      <td>0.4000</td>\n",
              "      <td>0.1625</td>\n",
              "      <td>0.2364</td>\n",
              "      <td>0.07678</td>\n",
              "      <td>NaN</td>\n",
              "    </tr>\n",
              "  </tbody>\n",
              "</table>\n",
              "</div>"
            ],
            "text/plain": [
              "         id diagnosis  ...  fractal_dimension_worst  Unnamed: 32\n",
              "0    842302         M  ...                  0.11890          NaN\n",
              "1    842517         M  ...                  0.08902          NaN\n",
              "2  84300903         M  ...                  0.08758          NaN\n",
              "3  84348301         M  ...                  0.17300          NaN\n",
              "4  84358402         M  ...                  0.07678          NaN\n",
              "\n",
              "[5 rows x 33 columns]"
            ]
          },
          "metadata": {},
          "execution_count": 5
        }
      ]
    },
    {
      "cell_type": "code",
      "metadata": {
        "colab": {
          "base_uri": "https://localhost:8080/",
          "height": 350
        },
        "id": "S1M9hlaroVjY",
        "outputId": "63718c8a-09db-4387-aa59-46730c52ec2e"
      },
      "source": [
        "sns.countplot(df['diagnosis'])"
      ],
      "execution_count": null,
      "outputs": [
        {
          "output_type": "stream",
          "text": [
            "/usr/local/lib/python3.7/dist-packages/seaborn/_decorators.py:43: FutureWarning: Pass the following variable as a keyword arg: x. From version 0.12, the only valid positional argument will be `data`, and passing other arguments without an explicit keyword will result in an error or misinterpretation.\n",
            "  FutureWarning\n"
          ],
          "name": "stderr"
        },
        {
          "output_type": "execute_result",
          "data": {
            "text/plain": [
              "<matplotlib.axes._subplots.AxesSubplot at 0x7f27f9422290>"
            ]
          },
          "metadata": {},
          "execution_count": 6
        },
        {
          "output_type": "display_data",
          "data": {
            "image/png": "[encoded data removed]",
            "text/plain": [
              "<Figure size 432x288 with 1 Axes>"
            ]
          },
          "metadata": {
            "needs_background": "light"
          }
        }
      ]
    },
    {
      "cell_type": "code",
      "metadata": {
        "id": "KjS0XCqfoZrf"
      },
      "source": [
        "df = pd.get_dummies(df, columns=['diagnosis'], drop_first=True)"
      ],
      "execution_count": null,
      "outputs": []
    },
    {
      "cell_type": "code",
      "metadata": {
        "id": "ZNhwJs5FqtTv"
      },
      "source": [
        "df.drop(columns=['id'], axis=1, inplace=True)"
      ],
      "execution_count": null,
      "outputs": []
    },
    {
      "cell_type": "code",
      "metadata": {
        "colab": {
          "base_uri": "https://localhost:8080/"
        },
        "id": "cIOFlWIfqzRJ",
        "outputId": "29233f73-db3c-45fd-e9f3-f1892d5713c7"
      },
      "source": [
        "df.isnull().sum()"
      ],
      "execution_count": null,
      "outputs": [
        {
          "output_type": "execute_result",
          "data": {
            "text/plain": [
              "radius_mean                  0\n",
              "texture_mean                 0\n",
              "perimeter_mean               0\n",
              "area_mean                    0\n",
              "smoothness_mean              0\n",
              "compactness_mean             0\n",
              "concavity_mean               0\n",
              "concave points_mean          0\n",
              "symmetry_mean                0\n",
              "fractal_dimension_mean       0\n",
              "radius_se                    0\n",
              "texture_se                   0\n",
              "perimeter_se                 0\n",
              "area_se                      0\n",
              "smoothness_se                0\n",
              "compactness_se               0\n",
              "concavity_se                 0\n",
              "concave points_se            0\n",
              "symmetry_se                  0\n",
              "fractal_dimension_se         0\n",
              "radius_worst                 0\n",
              "texture_worst                0\n",
              "perimeter_worst              0\n",
              "area_worst                   0\n",
              "smoothness_worst             0\n",
              "compactness_worst            0\n",
              "concavity_worst              0\n",
              "concave points_worst         0\n",
              "symmetry_worst               0\n",
              "fractal_dimension_worst      0\n",
              "Unnamed: 32                569\n",
              "diagnosis_M                  0\n",
              "dtype: int64"
            ]
          },
          "metadata": {},
          "execution_count": 9
        }
      ]
    },
    {
      "cell_type": "code",
      "metadata": {
        "id": "bH95R18cq03s"
      },
      "source": [
        "df.drop(columns=['Unnamed: 32'], axis=1, inplace=True)"
      ],
      "execution_count": null,
      "outputs": []
    },
    {
      "cell_type": "code",
      "metadata": {
        "colab": {
          "base_uri": "https://localhost:8080/",
          "height": 241
        },
        "id": "lDBDS7J6q8Sm",
        "outputId": "9e0eb9ca-0f6f-45c6-8e84-8a83b4e118ab"
      },
      "source": [
        "df.head()"
      ],
      "execution_count": null,
      "outputs": [
        {
          "output_type": "execute_result",
          "data": {
            "text/html": [
              "<div>\n",
              "<style scoped>\n",
              "    .dataframe tbody tr th:only-of-type {\n",
              "        vertical-align: middle;\n",
              "    }\n",
              "\n",
              "    .dataframe tbody tr th {\n",
              "        vertical-align: top;\n",
              "    }\n",
              "\n",
              "    .dataframe thead th {\n",
              "        text-align: right;\n",
              "    }\n",
              "</style>\n",
              "<table border=\"1\" class=\"dataframe\">\n",
              "  <thead>\n",
              "    <tr style=\"text-align: right;\">\n",
              "      <th></th>\n",
              "      <th>radius_mean</th>\n",
              "      <th>texture_mean</th>\n",
              "      <th>perimeter_mean</th>\n",
              "      <th>area_mean</th>\n",
              "      <th>smoothness_mean</th>\n",
              "      <th>compactness_mean</th>\n",
              "      <th>concavity_mean</th>\n",
              "      <th>concave points_mean</th>\n",
              "      <th>symmetry_mean</th>\n",
              "      <th>fractal_dimension_mean</th>\n",
              "      <th>radius_se</th>\n",
              "      <th>texture_se</th>\n",
              "      <th>perimeter_se</th>\n",
              "      <th>area_se</th>\n",
              "      <th>smoothness_se</th>\n",
              "      <th>compactness_se</th>\n",
              "      <th>concavity_se</th>\n",
              "      <th>concave points_se</th>\n",
              "      <th>symmetry_se</th>\n",
              "      <th>fractal_dimension_se</th>\n",
              "      <th>radius_worst</th>\n",
              "      <th>texture_worst</th>\n",
              "      <th>perimeter_worst</th>\n",
              "      <th>area_worst</th>\n",
              "      <th>smoothness_worst</th>\n",
              "      <th>compactness_worst</th>\n",
              "      <th>concavity_worst</th>\n",
              "      <th>concave points_worst</th>\n",
              "      <th>symmetry_worst</th>\n",
              "      <th>fractal_dimension_worst</th>\n",
              "      <th>diagnosis_M</th>\n",
              "    </tr>\n",
              "  </thead>\n",
              "  <tbody>\n",
              "    <tr>\n",
              "      <th>0</th>\n",
              "      <td>17.99</td>\n",
              "      <td>10.38</td>\n",
              "      <td>122.80</td>\n",
              "      <td>1001.0</td>\n",
              "      <td>0.11840</td>\n",
              "      <td>0.27760</td>\n",
              "      <td>0.3001</td>\n",
              "      <td>0.14710</td>\n",
              "      <td>0.2419</td>\n",
              "      <td>0.07871</td>\n",
              "      <td>1.0950</td>\n",
              "      <td>0.9053</td>\n",
              "      <td>8.589</td>\n",
              "      <td>153.40</td>\n",
              "      <td>0.006399</td>\n",
              "      <td>0.04904</td>\n",
              "      <td>0.05373</td>\n",
              "      <td>0.01587</td>\n",
              "      <td>0.03003</td>\n",
              "      <td>0.006193</td>\n",
              "      <td>25.38</td>\n",
              "      <td>17.33</td>\n",
              "      <td>184.60</td>\n",
              "      <td>2019.0</td>\n",
              "      <td>0.1622</td>\n",
              "      <td>0.6656</td>\n",
              "      <td>0.7119</td>\n",
              "      <td>0.2654</td>\n",
              "      <td>0.4601</td>\n",
              "      <td>0.11890</td>\n",
              "      <td>1</td>\n",
              "    </tr>\n",
              "    <tr>\n",
              "      <th>1</th>\n",
              "      <td>20.57</td>\n",
              "      <td>17.77</td>\n",
              "      <td>132.90</td>\n",
              "      <td>1326.0</td>\n",
              "      <td>0.08474</td>\n",
              "      <td>0.07864</td>\n",
              "      <td>0.0869</td>\n",
              "      <td>0.07017</td>\n",
              "      <td>0.1812</td>\n",
              "      <td>0.05667</td>\n",
              "      <td>0.5435</td>\n",
              "      <td>0.7339</td>\n",
              "      <td>3.398</td>\n",
              "      <td>74.08</td>\n",
              "      <td>0.005225</td>\n",
              "      <td>0.01308</td>\n",
              "      <td>0.01860</td>\n",
              "      <td>0.01340</td>\n",
              "      <td>0.01389</td>\n",
              "      <td>0.003532</td>\n",
              "      <td>24.99</td>\n",
              "      <td>23.41</td>\n",
              "      <td>158.80</td>\n",
              "      <td>1956.0</td>\n",
              "      <td>0.1238</td>\n",
              "      <td>0.1866</td>\n",
              "      <td>0.2416</td>\n",
              "      <td>0.1860</td>\n",
              "      <td>0.2750</td>\n",
              "      <td>0.08902</td>\n",
              "      <td>1</td>\n",
              "    </tr>\n",
              "    <tr>\n",
              "      <th>2</th>\n",
              "      <td>19.69</td>\n",
              "      <td>21.25</td>\n",
              "      <td>130.00</td>\n",
              "      <td>1203.0</td>\n",
              "      <td>0.10960</td>\n",
              "      <td>0.15990</td>\n",
              "      <td>0.1974</td>\n",
              "      <td>0.12790</td>\n",
              "      <td>0.2069</td>\n",
              "      <td>0.05999</td>\n",
              "      <td>0.7456</td>\n",
              "      <td>0.7869</td>\n",
              "      <td>4.585</td>\n",
              "      <td>94.03</td>\n",
              "      <td>0.006150</td>\n",
              "      <td>0.04006</td>\n",
              "      <td>0.03832</td>\n",
              "      <td>0.02058</td>\n",
              "      <td>0.02250</td>\n",
              "      <td>0.004571</td>\n",
              "      <td>23.57</td>\n",
              "      <td>25.53</td>\n",
              "      <td>152.50</td>\n",
              "      <td>1709.0</td>\n",
              "      <td>0.1444</td>\n",
              "      <td>0.4245</td>\n",
              "      <td>0.4504</td>\n",
              "      <td>0.2430</td>\n",
              "      <td>0.3613</td>\n",
              "      <td>0.08758</td>\n",
              "      <td>1</td>\n",
              "    </tr>\n",
              "    <tr>\n",
              "      <th>3</th>\n",
              "      <td>11.42</td>\n",
              "      <td>20.38</td>\n",
              "      <td>77.58</td>\n",
              "      <td>386.1</td>\n",
              "      <td>0.14250</td>\n",
              "      <td>0.28390</td>\n",
              "      <td>0.2414</td>\n",
              "      <td>0.10520</td>\n",
              "      <td>0.2597</td>\n",
              "      <td>0.09744</td>\n",
              "      <td>0.4956</td>\n",
              "      <td>1.1560</td>\n",
              "      <td>3.445</td>\n",
              "      <td>27.23</td>\n",
              "      <td>0.009110</td>\n",
              "      <td>0.07458</td>\n",
              "      <td>0.05661</td>\n",
              "      <td>0.01867</td>\n",
              "      <td>0.05963</td>\n",
              "      <td>0.009208</td>\n",
              "      <td>14.91</td>\n",
              "      <td>26.50</td>\n",
              "      <td>98.87</td>\n",
              "      <td>567.7</td>\n",
              "      <td>0.2098</td>\n",
              "      <td>0.8663</td>\n",
              "      <td>0.6869</td>\n",
              "      <td>0.2575</td>\n",
              "      <td>0.6638</td>\n",
              "      <td>0.17300</td>\n",
              "      <td>1</td>\n",
              "    </tr>\n",
              "    <tr>\n",
              "      <th>4</th>\n",
              "      <td>20.29</td>\n",
              "      <td>14.34</td>\n",
              "      <td>135.10</td>\n",
              "      <td>1297.0</td>\n",
              "      <td>0.10030</td>\n",
              "      <td>0.13280</td>\n",
              "      <td>0.1980</td>\n",
              "      <td>0.10430</td>\n",
              "      <td>0.1809</td>\n",
              "      <td>0.05883</td>\n",
              "      <td>0.7572</td>\n",
              "      <td>0.7813</td>\n",
              "      <td>5.438</td>\n",
              "      <td>94.44</td>\n",
              "      <td>0.011490</td>\n",
              "      <td>0.02461</td>\n",
              "      <td>0.05688</td>\n",
              "      <td>0.01885</td>\n",
              "      <td>0.01756</td>\n",
              "      <td>0.005115</td>\n",
              "      <td>22.54</td>\n",
              "      <td>16.67</td>\n",
              "      <td>152.20</td>\n",
              "      <td>1575.0</td>\n",
              "      <td>0.1374</td>\n",
              "      <td>0.2050</td>\n",
              "      <td>0.4000</td>\n",
              "      <td>0.1625</td>\n",
              "      <td>0.2364</td>\n",
              "      <td>0.07678</td>\n",
              "      <td>1</td>\n",
              "    </tr>\n",
              "  </tbody>\n",
              "</table>\n",
              "</div>"
            ],
            "text/plain": [
              "   radius_mean  texture_mean  ...  fractal_dimension_worst  diagnosis_M\n",
              "0        17.99         10.38  ...                  0.11890            1\n",
              "1        20.57         17.77  ...                  0.08902            1\n",
              "2        19.69         21.25  ...                  0.08758            1\n",
              "3        11.42         20.38  ...                  0.17300            1\n",
              "4        20.29         14.34  ...                  0.07678            1\n",
              "\n",
              "[5 rows x 31 columns]"
            ]
          },
          "metadata": {},
          "execution_count": 12
        }
      ]
    },
    {
      "cell_type": "code",
      "metadata": {
        "id": "fr0AHyKHrAGW"
      },
      "source": [
        "df = df.sample(frac=1)"
      ],
      "execution_count": null,
      "outputs": []
    },
    {
      "cell_type": "code",
      "metadata": {
        "colab": {
          "base_uri": "https://localhost:8080/",
          "height": 241
        },
        "id": "w8ZoycgSrF47",
        "outputId": "2ddf26ee-bf35-4f19-d1fe-0d021d70ad37"
      },
      "source": [
        "df.head()"
      ],
      "execution_count": null,
      "outputs": [
        {
          "output_type": "execute_result",
          "data": {
            "text/html": [
              "<div>\n",
              "<style scoped>\n",
              "    .dataframe tbody tr th:only-of-type {\n",
              "        vertical-align: middle;\n",
              "    }\n",
              "\n",
              "    .dataframe tbody tr th {\n",
              "        vertical-align: top;\n",
              "    }\n",
              "\n",
              "    .dataframe thead th {\n",
              "        text-align: right;\n",
              "    }\n",
              "</style>\n",
              "<table border=\"1\" class=\"dataframe\">\n",
              "  <thead>\n",
              "    <tr style=\"text-align: right;\">\n",
              "      <th></th>\n",
              "      <th>radius_mean</th>\n",
              "      <th>texture_mean</th>\n",
              "      <th>perimeter_mean</th>\n",
              "      <th>area_mean</th>\n",
              "      <th>smoothness_mean</th>\n",
              "      <th>compactness_mean</th>\n",
              "      <th>concavity_mean</th>\n",
              "      <th>concave points_mean</th>\n",
              "      <th>symmetry_mean</th>\n",
              "      <th>fractal_dimension_mean</th>\n",
              "      <th>radius_se</th>\n",
              "      <th>texture_se</th>\n",
              "      <th>perimeter_se</th>\n",
              "      <th>area_se</th>\n",
              "      <th>smoothness_se</th>\n",
              "      <th>compactness_se</th>\n",
              "      <th>concavity_se</th>\n",
              "      <th>concave points_se</th>\n",
              "      <th>symmetry_se</th>\n",
              "      <th>fractal_dimension_se</th>\n",
              "      <th>radius_worst</th>\n",
              "      <th>texture_worst</th>\n",
              "      <th>perimeter_worst</th>\n",
              "      <th>area_worst</th>\n",
              "      <th>smoothness_worst</th>\n",
              "      <th>compactness_worst</th>\n",
              "      <th>concavity_worst</th>\n",
              "      <th>concave points_worst</th>\n",
              "      <th>symmetry_worst</th>\n",
              "      <th>fractal_dimension_worst</th>\n",
              "      <th>diagnosis_M</th>\n",
              "    </tr>\n",
              "  </thead>\n",
              "  <tbody>\n",
              "    <tr>\n",
              "      <th>129</th>\n",
              "      <td>19.79</td>\n",
              "      <td>25.12</td>\n",
              "      <td>130.40</td>\n",
              "      <td>1192.0</td>\n",
              "      <td>0.10150</td>\n",
              "      <td>0.15890</td>\n",
              "      <td>0.25450</td>\n",
              "      <td>0.11490</td>\n",
              "      <td>0.2202</td>\n",
              "      <td>0.06113</td>\n",
              "      <td>0.4953</td>\n",
              "      <td>1.1990</td>\n",
              "      <td>2.765</td>\n",
              "      <td>63.33</td>\n",
              "      <td>0.005033</td>\n",
              "      <td>0.031790</td>\n",
              "      <td>0.04755</td>\n",
              "      <td>0.01043</td>\n",
              "      <td>0.01578</td>\n",
              "      <td>0.003224</td>\n",
              "      <td>22.63</td>\n",
              "      <td>33.58</td>\n",
              "      <td>148.70</td>\n",
              "      <td>1589.0</td>\n",
              "      <td>0.12750</td>\n",
              "      <td>0.38610</td>\n",
              "      <td>0.56730</td>\n",
              "      <td>0.17320</td>\n",
              "      <td>0.3305</td>\n",
              "      <td>0.08465</td>\n",
              "      <td>1</td>\n",
              "    </tr>\n",
              "    <tr>\n",
              "      <th>328</th>\n",
              "      <td>16.27</td>\n",
              "      <td>20.71</td>\n",
              "      <td>106.90</td>\n",
              "      <td>813.7</td>\n",
              "      <td>0.11690</td>\n",
              "      <td>0.13190</td>\n",
              "      <td>0.14780</td>\n",
              "      <td>0.08488</td>\n",
              "      <td>0.1948</td>\n",
              "      <td>0.06277</td>\n",
              "      <td>0.4375</td>\n",
              "      <td>1.2320</td>\n",
              "      <td>3.270</td>\n",
              "      <td>44.41</td>\n",
              "      <td>0.006697</td>\n",
              "      <td>0.020830</td>\n",
              "      <td>0.03248</td>\n",
              "      <td>0.01392</td>\n",
              "      <td>0.01536</td>\n",
              "      <td>0.002789</td>\n",
              "      <td>19.28</td>\n",
              "      <td>30.38</td>\n",
              "      <td>129.80</td>\n",
              "      <td>1121.0</td>\n",
              "      <td>0.15900</td>\n",
              "      <td>0.29470</td>\n",
              "      <td>0.35970</td>\n",
              "      <td>0.15830</td>\n",
              "      <td>0.3103</td>\n",
              "      <td>0.08200</td>\n",
              "      <td>1</td>\n",
              "    </tr>\n",
              "    <tr>\n",
              "      <th>37</th>\n",
              "      <td>13.03</td>\n",
              "      <td>18.42</td>\n",
              "      <td>82.61</td>\n",
              "      <td>523.8</td>\n",
              "      <td>0.08983</td>\n",
              "      <td>0.03766</td>\n",
              "      <td>0.02562</td>\n",
              "      <td>0.02923</td>\n",
              "      <td>0.1467</td>\n",
              "      <td>0.05863</td>\n",
              "      <td>0.1839</td>\n",
              "      <td>2.3420</td>\n",
              "      <td>1.170</td>\n",
              "      <td>14.16</td>\n",
              "      <td>0.004352</td>\n",
              "      <td>0.004899</td>\n",
              "      <td>0.01343</td>\n",
              "      <td>0.01164</td>\n",
              "      <td>0.02671</td>\n",
              "      <td>0.001777</td>\n",
              "      <td>13.30</td>\n",
              "      <td>22.81</td>\n",
              "      <td>84.46</td>\n",
              "      <td>545.9</td>\n",
              "      <td>0.09701</td>\n",
              "      <td>0.04619</td>\n",
              "      <td>0.04833</td>\n",
              "      <td>0.05013</td>\n",
              "      <td>0.1987</td>\n",
              "      <td>0.06169</td>\n",
              "      <td>0</td>\n",
              "    </tr>\n",
              "    <tr>\n",
              "      <th>91</th>\n",
              "      <td>15.37</td>\n",
              "      <td>22.76</td>\n",
              "      <td>100.20</td>\n",
              "      <td>728.2</td>\n",
              "      <td>0.09200</td>\n",
              "      <td>0.10360</td>\n",
              "      <td>0.11220</td>\n",
              "      <td>0.07483</td>\n",
              "      <td>0.1717</td>\n",
              "      <td>0.06097</td>\n",
              "      <td>0.3129</td>\n",
              "      <td>0.8413</td>\n",
              "      <td>2.075</td>\n",
              "      <td>29.44</td>\n",
              "      <td>0.009882</td>\n",
              "      <td>0.024440</td>\n",
              "      <td>0.04531</td>\n",
              "      <td>0.01763</td>\n",
              "      <td>0.02471</td>\n",
              "      <td>0.002142</td>\n",
              "      <td>16.43</td>\n",
              "      <td>25.84</td>\n",
              "      <td>107.50</td>\n",
              "      <td>830.9</td>\n",
              "      <td>0.12570</td>\n",
              "      <td>0.19970</td>\n",
              "      <td>0.28460</td>\n",
              "      <td>0.14760</td>\n",
              "      <td>0.2556</td>\n",
              "      <td>0.06828</td>\n",
              "      <td>1</td>\n",
              "    </tr>\n",
              "    <tr>\n",
              "      <th>320</th>\n",
              "      <td>10.25</td>\n",
              "      <td>16.18</td>\n",
              "      <td>66.52</td>\n",
              "      <td>324.2</td>\n",
              "      <td>0.10610</td>\n",
              "      <td>0.11110</td>\n",
              "      <td>0.06726</td>\n",
              "      <td>0.03965</td>\n",
              "      <td>0.1743</td>\n",
              "      <td>0.07279</td>\n",
              "      <td>0.3677</td>\n",
              "      <td>1.4710</td>\n",
              "      <td>1.597</td>\n",
              "      <td>22.68</td>\n",
              "      <td>0.010490</td>\n",
              "      <td>0.042650</td>\n",
              "      <td>0.04004</td>\n",
              "      <td>0.01544</td>\n",
              "      <td>0.02719</td>\n",
              "      <td>0.007596</td>\n",
              "      <td>11.28</td>\n",
              "      <td>20.61</td>\n",
              "      <td>71.53</td>\n",
              "      <td>390.4</td>\n",
              "      <td>0.14020</td>\n",
              "      <td>0.23600</td>\n",
              "      <td>0.18980</td>\n",
              "      <td>0.09744</td>\n",
              "      <td>0.2608</td>\n",
              "      <td>0.09702</td>\n",
              "      <td>0</td>\n",
              "    </tr>\n",
              "  </tbody>\n",
              "</table>\n",
              "</div>"
            ],
            "text/plain": [
              "     radius_mean  texture_mean  ...  fractal_dimension_worst  diagnosis_M\n",
              "129        19.79         25.12  ...                  0.08465            1\n",
              "328        16.27         20.71  ...                  0.08200            1\n",
              "37         13.03         18.42  ...                  0.06169            0\n",
              "91         15.37         22.76  ...                  0.06828            1\n",
              "320        10.25         16.18  ...                  0.09702            0\n",
              "\n",
              "[5 rows x 31 columns]"
            ]
          },
          "metadata": {},
          "execution_count": 14
        }
      ]
    },
    {
      "cell_type": "code",
      "metadata": {
        "id": "lUE1U8fDrG_N"
      },
      "source": [
        "from sklearn.preprocessing import MinMaxScaler\n",
        "from sklearn.model_selection import train_test_split"
      ],
      "execution_count": null,
      "outputs": []
    },
    {
      "cell_type": "code",
      "metadata": {
        "id": "UaRkGdYPrPJl"
      },
      "source": [
        "X = df.drop(columns=['diagnosis_M'], axis=1)\n",
        "\n",
        "y = df['diagnosis_M']"
      ],
      "execution_count": null,
      "outputs": []
    },
    {
      "cell_type": "code",
      "metadata": {
        "id": "Q4eaiDM8rdJg"
      },
      "source": [
        "X_train, X_test, y_train, y_test = train_test_split(X, y, test_size=0.33, random_state=42)"
      ],
      "execution_count": null,
      "outputs": []
    },
    {
      "cell_type": "code",
      "metadata": {
        "id": "OnecFCtUrrvI"
      },
      "source": [
        "Scaler = MinMaxScaler()"
      ],
      "execution_count": null,
      "outputs": []
    },
    {
      "cell_type": "code",
      "metadata": {
        "colab": {
          "base_uri": "https://localhost:8080/"
        },
        "id": "FSL0LjjDruWj",
        "outputId": "e0753b70-ed85-433f-9321-dd090c20040b"
      },
      "source": [
        "Scaler.fit(X_train)"
      ],
      "execution_count": null,
      "outputs": [
        {
          "output_type": "execute_result",
          "data": {
            "text/plain": [
              "MinMaxScaler(copy=True, feature_range=(0, 1))"
            ]
          },
          "metadata": {},
          "execution_count": 58
        }
      ]
    },
    {
      "cell_type": "code",
      "metadata": {
        "id": "eMLgl2UCrvGR"
      },
      "source": [
        "X_train = Scaler.transform(X_train)\n",
        "\n",
        "X_test = Scaler.transform(X_test)"
      ],
      "execution_count": null,
      "outputs": []
    },
    {
      "cell_type": "code",
      "metadata": {
        "id": "Vt6lX0CYr1Ji"
      },
      "source": [
        "from tensorflow.keras.models import Sequential"
      ],
      "execution_count": null,
      "outputs": []
    },
    {
      "cell_type": "code",
      "metadata": {
        "id": "_tPM39PIr5CE"
      },
      "source": [
        "from tensorflow.keras.layers import Dense, Dropout"
      ],
      "execution_count": null,
      "outputs": []
    },
    {
      "cell_type": "code",
      "metadata": {
        "colab": {
          "base_uri": "https://localhost:8080/"
        },
        "id": "dkIwAAGTr75T",
        "outputId": "e361ff3a-2d79-44d0-b1e3-9810543cfef1"
      },
      "source": [
        "X_train.shape"
      ],
      "execution_count": null,
      "outputs": [
        {
          "output_type": "execute_result",
          "data": {
            "text/plain": [
              "(381, 30)"
            ]
          },
          "metadata": {},
          "execution_count": 62
        }
      ]
    },
    {
      "cell_type": "code",
      "metadata": {
        "id": "OTFIZd6Ar8jH"
      },
      "source": [
        "model = Sequential()\n",
        "\n",
        "model.add(Dense(4, activation='relu'))\n",
        "model.add(Dropout(0.10))\n",
        "\n",
        "model.add(Dense(1, activation='sigmoid'))\n",
        "\n",
        "model.compile(loss='binary_crossentropy', optimizer='adam', metrics=['accuracy'])"
      ],
      "execution_count": null,
      "outputs": []
    },
    {
      "cell_type": "code",
      "metadata": {
        "id": "mbKSRaj_sKxZ"
      },
      "source": [
        "from tensorflow.keras.callbacks import EarlyStopping"
      ],
      "execution_count": null,
      "outputs": []
    },
    {
      "cell_type": "code",
      "metadata": {
        "id": "_7ajnuP0sOkP"
      },
      "source": [
        "early_stop = EarlyStopping(monitor='val_loss', mode='min', patience=25)"
      ],
      "execution_count": null,
      "outputs": []
    },
    {
      "cell_type": "code",
      "metadata": {
        "id": "uklAu72csVgj"
      },
      "source": [
        "validation_data = (X_test, y_test)"
      ],
      "execution_count": null,
      "outputs": []
    },
    {
      "cell_type": "code",
      "metadata": {
        "colab": {
          "base_uri": "https://localhost:8080/"
        },
        "id": "E9NXXDMBsS2v",
        "outputId": "1ee4bb8e-737f-47c8-ae1d-3d7ed9123f63"
      },
      "source": [
        "result = model.fit(X_train, y_train, validation_data = validation_data, epochs=350, verbose=1, callbacks=[early_stop])"
      ],
      "execution_count": null,
      "outputs": [
        {
          "output_type": "stream",
          "text": [
            "Epoch 1/350\n",
            "12/12 [==============================] - 1s 19ms/step - loss: 0.6598 - accuracy: 0.6325 - val_loss: 0.6644 - val_accuracy: 0.6011\n",
            "Epoch 2/350\n",
            "12/12 [==============================] - 0s 4ms/step - loss: 0.6512 - accuracy: 0.6457 - val_loss: 0.6578 - val_accuracy: 0.6011\n",
            "Epoch 3/350\n",
            "12/12 [==============================] - 0s 4ms/step - loss: 0.6427 - accuracy: 0.6404 - val_loss: 0.6515 - val_accuracy: 0.6011\n",
            "Epoch 4/350\n",
            "12/12 [==============================] - 0s 4ms/step - loss: 0.6368 - accuracy: 0.6404 - val_loss: 0.6458 - val_accuracy: 0.6011\n",
            "Epoch 5/350\n",
            "12/12 [==============================] - 0s 4ms/step - loss: 0.6322 - accuracy: 0.6404 - val_loss: 0.6396 - val_accuracy: 0.6011\n",
            "Epoch 6/350\n",
            "12/12 [==============================] - 0s 5ms/step - loss: 0.6246 - accuracy: 0.6404 - val_loss: 0.6335 - val_accuracy: 0.6011\n",
            "Epoch 7/350\n",
            "12/12 [==============================] - 0s 6ms/step - loss: 0.6228 - accuracy: 0.6404 - val_loss: 0.6276 - val_accuracy: 0.6011\n",
            "Epoch 8/350\n",
            "12/12 [==============================] - 0s 5ms/step - loss: 0.6130 - accuracy: 0.6404 - val_loss: 0.6218 - val_accuracy: 0.6011\n",
            "Epoch 9/350\n",
            "12/12 [==============================] - 0s 5ms/step - loss: 0.6080 - accuracy: 0.6404 - val_loss: 0.6160 - val_accuracy: 0.6011\n",
            "Epoch 10/350\n",
            "12/12 [==============================] - 0s 6ms/step - loss: 0.6020 - accuracy: 0.6404 - val_loss: 0.6103 - val_accuracy: 0.6011\n",
            "Epoch 11/350\n",
            "12/12 [==============================] - 0s 7ms/step - loss: 0.5978 - accuracy: 0.6404 - val_loss: 0.6047 - val_accuracy: 0.6011\n",
            "Epoch 12/350\n",
            "12/12 [==============================] - 0s 6ms/step - loss: 0.5886 - accuracy: 0.6404 - val_loss: 0.5988 - val_accuracy: 0.6011\n",
            "Epoch 13/350\n",
            "12/12 [==============================] - 0s 4ms/step - loss: 0.5851 - accuracy: 0.6404 - val_loss: 0.5928 - val_accuracy: 0.6011\n",
            "Epoch 14/350\n",
            "12/12 [==============================] - 0s 6ms/step - loss: 0.5774 - accuracy: 0.6404 - val_loss: 0.5866 - val_accuracy: 0.6011\n",
            "Epoch 15/350\n",
            "12/12 [==============================] - 0s 5ms/step - loss: 0.5686 - accuracy: 0.6404 - val_loss: 0.5793 - val_accuracy: 0.6011\n",
            "Epoch 16/350\n",
            "12/12 [==============================] - 0s 5ms/step - loss: 0.5580 - accuracy: 0.6588 - val_loss: 0.5708 - val_accuracy: 0.6170\n",
            "Epoch 17/350\n",
            "12/12 [==============================] - 0s 5ms/step - loss: 0.5463 - accuracy: 0.7060 - val_loss: 0.5617 - val_accuracy: 0.7021\n",
            "Epoch 18/350\n",
            "12/12 [==============================] - 0s 4ms/step - loss: 0.5454 - accuracy: 0.7480 - val_loss: 0.5511 - val_accuracy: 0.7926\n",
            "Epoch 19/350\n",
            "12/12 [==============================] - 0s 6ms/step - loss: 0.5322 - accuracy: 0.7953 - val_loss: 0.5403 - val_accuracy: 0.8032\n",
            "Epoch 20/350\n",
            "12/12 [==============================] - 0s 6ms/step - loss: 0.5225 - accuracy: 0.8136 - val_loss: 0.5292 - val_accuracy: 0.8138\n",
            "Epoch 21/350\n",
            "12/12 [==============================] - 0s 6ms/step - loss: 0.5119 - accuracy: 0.8268 - val_loss: 0.5178 - val_accuracy: 0.8138\n",
            "Epoch 22/350\n",
            "12/12 [==============================] - 0s 4ms/step - loss: 0.5034 - accuracy: 0.8241 - val_loss: 0.5060 - val_accuracy: 0.8191\n",
            "Epoch 23/350\n",
            "12/12 [==============================] - 0s 7ms/step - loss: 0.4892 - accuracy: 0.8346 - val_loss: 0.4940 - val_accuracy: 0.8191\n",
            "Epoch 24/350\n",
            "12/12 [==============================] - 0s 6ms/step - loss: 0.4765 - accuracy: 0.8294 - val_loss: 0.4817 - val_accuracy: 0.8404\n",
            "Epoch 25/350\n",
            "12/12 [==============================] - 0s 6ms/step - loss: 0.4715 - accuracy: 0.8294 - val_loss: 0.4697 - val_accuracy: 0.8777\n",
            "Epoch 26/350\n",
            "12/12 [==============================] - 0s 6ms/step - loss: 0.4557 - accuracy: 0.8451 - val_loss: 0.4592 - val_accuracy: 0.8777\n",
            "Epoch 27/350\n",
            "12/12 [==============================] - 0s 4ms/step - loss: 0.4502 - accuracy: 0.8478 - val_loss: 0.4485 - val_accuracy: 0.8883\n",
            "Epoch 28/350\n",
            "12/12 [==============================] - 0s 4ms/step - loss: 0.4534 - accuracy: 0.8346 - val_loss: 0.4389 - val_accuracy: 0.8883\n",
            "Epoch 29/350\n",
            "12/12 [==============================] - 0s 5ms/step - loss: 0.4432 - accuracy: 0.8556 - val_loss: 0.4299 - val_accuracy: 0.8883\n",
            "Epoch 30/350\n",
            "12/12 [==============================] - 0s 4ms/step - loss: 0.4242 - accuracy: 0.8425 - val_loss: 0.4204 - val_accuracy: 0.8989\n",
            "Epoch 31/350\n",
            "12/12 [==============================] - 0s 4ms/step - loss: 0.4136 - accuracy: 0.8530 - val_loss: 0.4114 - val_accuracy: 0.8989\n",
            "Epoch 32/350\n",
            "12/12 [==============================] - 0s 5ms/step - loss: 0.4160 - accuracy: 0.8530 - val_loss: 0.4029 - val_accuracy: 0.8989\n",
            "Epoch 33/350\n",
            "12/12 [==============================] - 0s 4ms/step - loss: 0.4164 - accuracy: 0.8425 - val_loss: 0.3947 - val_accuracy: 0.8989\n",
            "Epoch 34/350\n",
            "12/12 [==============================] - 0s 6ms/step - loss: 0.3983 - accuracy: 0.8609 - val_loss: 0.3873 - val_accuracy: 0.9043\n",
            "Epoch 35/350\n",
            "12/12 [==============================] - 0s 4ms/step - loss: 0.3958 - accuracy: 0.8583 - val_loss: 0.3807 - val_accuracy: 0.9043\n",
            "Epoch 36/350\n",
            "12/12 [==============================] - 0s 6ms/step - loss: 0.3782 - accuracy: 0.8635 - val_loss: 0.3742 - val_accuracy: 0.9043\n",
            "Epoch 37/350\n",
            "12/12 [==============================] - 0s 4ms/step - loss: 0.3700 - accuracy: 0.8609 - val_loss: 0.3654 - val_accuracy: 0.9309\n",
            "Epoch 38/350\n",
            "12/12 [==============================] - 0s 5ms/step - loss: 0.3607 - accuracy: 0.8583 - val_loss: 0.3586 - val_accuracy: 0.9309\n",
            "Epoch 39/350\n",
            "12/12 [==============================] - 0s 5ms/step - loss: 0.3674 - accuracy: 0.8661 - val_loss: 0.3528 - val_accuracy: 0.9309\n",
            "Epoch 40/350\n",
            "12/12 [==============================] - 0s 6ms/step - loss: 0.3546 - accuracy: 0.8688 - val_loss: 0.3459 - val_accuracy: 0.9309\n",
            "Epoch 41/350\n",
            "12/12 [==============================] - 0s 7ms/step - loss: 0.3619 - accuracy: 0.8425 - val_loss: 0.3408 - val_accuracy: 0.9362\n",
            "Epoch 42/350\n",
            "12/12 [==============================] - 0s 5ms/step - loss: 0.3429 - accuracy: 0.8714 - val_loss: 0.3357 - val_accuracy: 0.9362\n",
            "Epoch 43/350\n",
            "12/12 [==============================] - 0s 6ms/step - loss: 0.3285 - accuracy: 0.8898 - val_loss: 0.3300 - val_accuracy: 0.9362\n",
            "Epoch 44/350\n",
            "12/12 [==============================] - 0s 5ms/step - loss: 0.3326 - accuracy: 0.8688 - val_loss: 0.3245 - val_accuracy: 0.9362\n",
            "Epoch 45/350\n",
            "12/12 [==============================] - 0s 6ms/step - loss: 0.3522 - accuracy: 0.8425 - val_loss: 0.3196 - val_accuracy: 0.9362\n",
            "Epoch 46/350\n",
            "12/12 [==============================] - 0s 4ms/step - loss: 0.3148 - accuracy: 0.8898 - val_loss: 0.3152 - val_accuracy: 0.9362\n",
            "Epoch 47/350\n",
            "12/12 [==============================] - 0s 6ms/step - loss: 0.3216 - accuracy: 0.8635 - val_loss: 0.3114 - val_accuracy: 0.9362\n",
            "Epoch 48/350\n",
            "12/12 [==============================] - 0s 5ms/step - loss: 0.3151 - accuracy: 0.8661 - val_loss: 0.3063 - val_accuracy: 0.9415\n",
            "Epoch 49/350\n",
            "12/12 [==============================] - 0s 5ms/step - loss: 0.3102 - accuracy: 0.8688 - val_loss: 0.3027 - val_accuracy: 0.9415\n",
            "Epoch 50/350\n",
            "12/12 [==============================] - 0s 6ms/step - loss: 0.3095 - accuracy: 0.8793 - val_loss: 0.2985 - val_accuracy: 0.9415\n",
            "Epoch 51/350\n",
            "12/12 [==============================] - 0s 5ms/step - loss: 0.2967 - accuracy: 0.9003 - val_loss: 0.2950 - val_accuracy: 0.9415\n",
            "Epoch 52/350\n",
            "12/12 [==============================] - 0s 6ms/step - loss: 0.3077 - accuracy: 0.8556 - val_loss: 0.2910 - val_accuracy: 0.9415\n",
            "Epoch 53/350\n",
            "12/12 [==============================] - 0s 4ms/step - loss: 0.3136 - accuracy: 0.8714 - val_loss: 0.2874 - val_accuracy: 0.9415\n",
            "Epoch 54/350\n",
            "12/12 [==============================] - 0s 5ms/step - loss: 0.3021 - accuracy: 0.8688 - val_loss: 0.2844 - val_accuracy: 0.9415\n",
            "Epoch 55/350\n",
            "12/12 [==============================] - 0s 6ms/step - loss: 0.2843 - accuracy: 0.8898 - val_loss: 0.2814 - val_accuracy: 0.9415\n",
            "Epoch 56/350\n",
            "12/12 [==============================] - 0s 4ms/step - loss: 0.3036 - accuracy: 0.8793 - val_loss: 0.2787 - val_accuracy: 0.9415\n",
            "Epoch 57/350\n",
            "12/12 [==============================] - 0s 5ms/step - loss: 0.2816 - accuracy: 0.8924 - val_loss: 0.2758 - val_accuracy: 0.9415\n",
            "Epoch 58/350\n",
            "12/12 [==============================] - 0s 5ms/step - loss: 0.2809 - accuracy: 0.8924 - val_loss: 0.2722 - val_accuracy: 0.9415\n",
            "Epoch 59/350\n",
            "12/12 [==============================] - 0s 5ms/step - loss: 0.2774 - accuracy: 0.8793 - val_loss: 0.2691 - val_accuracy: 0.9415\n",
            "Epoch 60/350\n",
            "12/12 [==============================] - 0s 5ms/step - loss: 0.2773 - accuracy: 0.8871 - val_loss: 0.2663 - val_accuracy: 0.9415\n",
            "Epoch 61/350\n",
            "12/12 [==============================] - 0s 5ms/step - loss: 0.2716 - accuracy: 0.8845 - val_loss: 0.2639 - val_accuracy: 0.9415\n",
            "Epoch 62/350\n",
            "12/12 [==============================] - 0s 6ms/step - loss: 0.2844 - accuracy: 0.8609 - val_loss: 0.2607 - val_accuracy: 0.9415\n",
            "Epoch 63/350\n",
            "12/12 [==============================] - 0s 4ms/step - loss: 0.2643 - accuracy: 0.8950 - val_loss: 0.2584 - val_accuracy: 0.9415\n",
            "Epoch 64/350\n",
            "12/12 [==============================] - 0s 5ms/step - loss: 0.2664 - accuracy: 0.9003 - val_loss: 0.2554 - val_accuracy: 0.9362\n",
            "Epoch 65/350\n",
            "12/12 [==============================] - 0s 4ms/step - loss: 0.2661 - accuracy: 0.8898 - val_loss: 0.2531 - val_accuracy: 0.9415\n",
            "Epoch 66/350\n",
            "12/12 [==============================] - 0s 6ms/step - loss: 0.2665 - accuracy: 0.8871 - val_loss: 0.2504 - val_accuracy: 0.9415\n",
            "Epoch 67/350\n",
            "12/12 [==============================] - 0s 6ms/step - loss: 0.2503 - accuracy: 0.8976 - val_loss: 0.2484 - val_accuracy: 0.9415\n",
            "Epoch 68/350\n",
            "12/12 [==============================] - 0s 5ms/step - loss: 0.2750 - accuracy: 0.8871 - val_loss: 0.2477 - val_accuracy: 0.9415\n",
            "Epoch 69/350\n",
            "12/12 [==============================] - 0s 6ms/step - loss: 0.2641 - accuracy: 0.8950 - val_loss: 0.2452 - val_accuracy: 0.9415\n",
            "Epoch 70/350\n",
            "12/12 [==============================] - 0s 5ms/step - loss: 0.2582 - accuracy: 0.8845 - val_loss: 0.2429 - val_accuracy: 0.9415\n",
            "Epoch 71/350\n",
            "12/12 [==============================] - 0s 6ms/step - loss: 0.2447 - accuracy: 0.8898 - val_loss: 0.2410 - val_accuracy: 0.9415\n",
            "Epoch 72/350\n",
            "12/12 [==============================] - 0s 6ms/step - loss: 0.2478 - accuracy: 0.8950 - val_loss: 0.2384 - val_accuracy: 0.9415\n",
            "Epoch 73/350\n",
            "12/12 [==============================] - 0s 6ms/step - loss: 0.2567 - accuracy: 0.8740 - val_loss: 0.2362 - val_accuracy: 0.9362\n",
            "Epoch 74/350\n",
            "12/12 [==============================] - 0s 4ms/step - loss: 0.2462 - accuracy: 0.8898 - val_loss: 0.2345 - val_accuracy: 0.9415\n",
            "Epoch 75/350\n",
            "12/12 [==============================] - 0s 5ms/step - loss: 0.2668 - accuracy: 0.8766 - val_loss: 0.2332 - val_accuracy: 0.9362\n",
            "Epoch 76/350\n",
            "12/12 [==============================] - 0s 6ms/step - loss: 0.2327 - accuracy: 0.9003 - val_loss: 0.2317 - val_accuracy: 0.9415\n",
            "Epoch 77/350\n",
            "12/12 [==============================] - 0s 5ms/step - loss: 0.2425 - accuracy: 0.9003 - val_loss: 0.2297 - val_accuracy: 0.9415\n",
            "Epoch 78/350\n",
            "12/12 [==============================] - 0s 6ms/step - loss: 0.2434 - accuracy: 0.8871 - val_loss: 0.2275 - val_accuracy: 0.9362\n",
            "Epoch 79/350\n",
            "12/12 [==============================] - 0s 5ms/step - loss: 0.2134 - accuracy: 0.9160 - val_loss: 0.2261 - val_accuracy: 0.9362\n",
            "Epoch 80/350\n",
            "12/12 [==============================] - 0s 4ms/step - loss: 0.2351 - accuracy: 0.9003 - val_loss: 0.2244 - val_accuracy: 0.9415\n",
            "Epoch 81/350\n",
            "12/12 [==============================] - 0s 6ms/step - loss: 0.2098 - accuracy: 0.9160 - val_loss: 0.2242 - val_accuracy: 0.9415\n",
            "Epoch 82/350\n",
            "12/12 [==============================] - 0s 6ms/step - loss: 0.2231 - accuracy: 0.9160 - val_loss: 0.2216 - val_accuracy: 0.9415\n",
            "Epoch 83/350\n",
            "12/12 [==============================] - 0s 4ms/step - loss: 0.2269 - accuracy: 0.9003 - val_loss: 0.2196 - val_accuracy: 0.9415\n",
            "Epoch 84/350\n",
            "12/12 [==============================] - 0s 6ms/step - loss: 0.2256 - accuracy: 0.9108 - val_loss: 0.2172 - val_accuracy: 0.9362\n",
            "Epoch 85/350\n",
            "12/12 [==============================] - 0s 6ms/step - loss: 0.2083 - accuracy: 0.9134 - val_loss: 0.2159 - val_accuracy: 0.9362\n",
            "Epoch 86/350\n",
            "12/12 [==============================] - 0s 6ms/step - loss: 0.2150 - accuracy: 0.9055 - val_loss: 0.2144 - val_accuracy: 0.9362\n",
            "Epoch 87/350\n",
            "12/12 [==============================] - 0s 5ms/step - loss: 0.2275 - accuracy: 0.9029 - val_loss: 0.2128 - val_accuracy: 0.9362\n",
            "Epoch 88/350\n",
            "12/12 [==============================] - 0s 6ms/step - loss: 0.2137 - accuracy: 0.9055 - val_loss: 0.2112 - val_accuracy: 0.9362\n",
            "Epoch 89/350\n",
            "12/12 [==============================] - 0s 5ms/step - loss: 0.2169 - accuracy: 0.9134 - val_loss: 0.2102 - val_accuracy: 0.9362\n",
            "Epoch 90/350\n",
            "12/12 [==============================] - 0s 6ms/step - loss: 0.2149 - accuracy: 0.8976 - val_loss: 0.2093 - val_accuracy: 0.9415\n",
            "Epoch 91/350\n",
            "12/12 [==============================] - 0s 6ms/step - loss: 0.2227 - accuracy: 0.9029 - val_loss: 0.2076 - val_accuracy: 0.9362\n",
            "Epoch 92/350\n",
            "12/12 [==============================] - 0s 5ms/step - loss: 0.2155 - accuracy: 0.9003 - val_loss: 0.2066 - val_accuracy: 0.9415\n",
            "Epoch 93/350\n",
            "12/12 [==============================] - 0s 6ms/step - loss: 0.2145 - accuracy: 0.8950 - val_loss: 0.2051 - val_accuracy: 0.9362\n",
            "Epoch 94/350\n",
            "12/12 [==============================] - 0s 5ms/step - loss: 0.2249 - accuracy: 0.8950 - val_loss: 0.2038 - val_accuracy: 0.9362\n",
            "Epoch 95/350\n",
            "12/12 [==============================] - 0s 5ms/step - loss: 0.2200 - accuracy: 0.9029 - val_loss: 0.2036 - val_accuracy: 0.9362\n",
            "Epoch 96/350\n",
            "12/12 [==============================] - 0s 5ms/step - loss: 0.2207 - accuracy: 0.9029 - val_loss: 0.2022 - val_accuracy: 0.9362\n",
            "Epoch 97/350\n",
            "12/12 [==============================] - 0s 5ms/step - loss: 0.1912 - accuracy: 0.9265 - val_loss: 0.2000 - val_accuracy: 0.9362\n",
            "Epoch 98/350\n",
            "12/12 [==============================] - 0s 6ms/step - loss: 0.2088 - accuracy: 0.8976 - val_loss: 0.1990 - val_accuracy: 0.9362\n",
            "Epoch 99/350\n",
            "12/12 [==============================] - 0s 5ms/step - loss: 0.2038 - accuracy: 0.8950 - val_loss: 0.1974 - val_accuracy: 0.9362\n",
            "Epoch 100/350\n",
            "12/12 [==============================] - 0s 5ms/step - loss: 0.1938 - accuracy: 0.9239 - val_loss: 0.1960 - val_accuracy: 0.9362\n",
            "Epoch 101/350\n",
            "12/12 [==============================] - 0s 5ms/step - loss: 0.2153 - accuracy: 0.9029 - val_loss: 0.1958 - val_accuracy: 0.9362\n",
            "Epoch 102/350\n",
            "12/12 [==============================] - 0s 6ms/step - loss: 0.2056 - accuracy: 0.9055 - val_loss: 0.1944 - val_accuracy: 0.9362\n",
            "Epoch 103/350\n",
            "12/12 [==============================] - 0s 4ms/step - loss: 0.2134 - accuracy: 0.9003 - val_loss: 0.1937 - val_accuracy: 0.9362\n",
            "Epoch 104/350\n",
            "12/12 [==============================] - 0s 5ms/step - loss: 0.2025 - accuracy: 0.9134 - val_loss: 0.1929 - val_accuracy: 0.9362\n",
            "Epoch 105/350\n",
            "12/12 [==============================] - 0s 5ms/step - loss: 0.1945 - accuracy: 0.9108 - val_loss: 0.1923 - val_accuracy: 0.9362\n",
            "Epoch 106/350\n",
            "12/12 [==============================] - 0s 5ms/step - loss: 0.2015 - accuracy: 0.8976 - val_loss: 0.1903 - val_accuracy: 0.9362\n",
            "Epoch 107/350\n",
            "12/12 [==============================] - 0s 4ms/step - loss: 0.1969 - accuracy: 0.9134 - val_loss: 0.1890 - val_accuracy: 0.9362\n",
            "Epoch 108/350\n",
            "12/12 [==============================] - 0s 5ms/step - loss: 0.1846 - accuracy: 0.9265 - val_loss: 0.1878 - val_accuracy: 0.9362\n",
            "Epoch 109/350\n",
            "12/12 [==============================] - 0s 4ms/step - loss: 0.1915 - accuracy: 0.9213 - val_loss: 0.1869 - val_accuracy: 0.9415\n",
            "Epoch 110/350\n",
            "12/12 [==============================] - 0s 6ms/step - loss: 0.1914 - accuracy: 0.9160 - val_loss: 0.1861 - val_accuracy: 0.9362\n",
            "Epoch 111/350\n",
            "12/12 [==============================] - 0s 7ms/step - loss: 0.1833 - accuracy: 0.9291 - val_loss: 0.1850 - val_accuracy: 0.9415\n",
            "Epoch 112/350\n",
            "12/12 [==============================] - 0s 5ms/step - loss: 0.2025 - accuracy: 0.9029 - val_loss: 0.1840 - val_accuracy: 0.9415\n",
            "Epoch 113/350\n",
            "12/12 [==============================] - 0s 6ms/step - loss: 0.1830 - accuracy: 0.9239 - val_loss: 0.1829 - val_accuracy: 0.9362\n",
            "Epoch 114/350\n",
            "12/12 [==============================] - 0s 5ms/step - loss: 0.1800 - accuracy: 0.9213 - val_loss: 0.1817 - val_accuracy: 0.9362\n",
            "Epoch 115/350\n",
            "12/12 [==============================] - 0s 6ms/step - loss: 0.2050 - accuracy: 0.9029 - val_loss: 0.1802 - val_accuracy: 0.9362\n",
            "Epoch 116/350\n",
            "12/12 [==============================] - 0s 4ms/step - loss: 0.1828 - accuracy: 0.9081 - val_loss: 0.1796 - val_accuracy: 0.9362\n",
            "Epoch 117/350\n",
            "12/12 [==============================] - 0s 5ms/step - loss: 0.1924 - accuracy: 0.9213 - val_loss: 0.1792 - val_accuracy: 0.9362\n",
            "Epoch 118/350\n",
            "12/12 [==============================] - 0s 4ms/step - loss: 0.1910 - accuracy: 0.9108 - val_loss: 0.1780 - val_accuracy: 0.9415\n",
            "Epoch 119/350\n",
            "12/12 [==============================] - 0s 6ms/step - loss: 0.1989 - accuracy: 0.8950 - val_loss: 0.1768 - val_accuracy: 0.9309\n",
            "Epoch 120/350\n",
            "12/12 [==============================] - 0s 6ms/step - loss: 0.1705 - accuracy: 0.9291 - val_loss: 0.1760 - val_accuracy: 0.9362\n",
            "Epoch 121/350\n",
            "12/12 [==============================] - 0s 5ms/step - loss: 0.1803 - accuracy: 0.9213 - val_loss: 0.1752 - val_accuracy: 0.9415\n",
            "Epoch 122/350\n",
            "12/12 [==============================] - 0s 4ms/step - loss: 0.1784 - accuracy: 0.9265 - val_loss: 0.1746 - val_accuracy: 0.9362\n",
            "Epoch 123/350\n",
            "12/12 [==============================] - 0s 5ms/step - loss: 0.1880 - accuracy: 0.9055 - val_loss: 0.1739 - val_accuracy: 0.9362\n",
            "Epoch 124/350\n",
            "12/12 [==============================] - 0s 6ms/step - loss: 0.1747 - accuracy: 0.9265 - val_loss: 0.1722 - val_accuracy: 0.9362\n",
            "Epoch 125/350\n",
            "12/12 [==============================] - 0s 4ms/step - loss: 0.1834 - accuracy: 0.9160 - val_loss: 0.1714 - val_accuracy: 0.9362\n",
            "Epoch 126/350\n",
            "12/12 [==============================] - 0s 6ms/step - loss: 0.1875 - accuracy: 0.9134 - val_loss: 0.1706 - val_accuracy: 0.9362\n",
            "Epoch 127/350\n",
            "12/12 [==============================] - 0s 4ms/step - loss: 0.1776 - accuracy: 0.9265 - val_loss: 0.1697 - val_accuracy: 0.9415\n",
            "Epoch 128/350\n",
            "12/12 [==============================] - 0s 5ms/step - loss: 0.1860 - accuracy: 0.9134 - val_loss: 0.1695 - val_accuracy: 0.9415\n",
            "Epoch 129/350\n",
            "12/12 [==============================] - 0s 6ms/step - loss: 0.1585 - accuracy: 0.9423 - val_loss: 0.1686 - val_accuracy: 0.9415\n",
            "Epoch 130/350\n",
            "12/12 [==============================] - 0s 5ms/step - loss: 0.1634 - accuracy: 0.9370 - val_loss: 0.1674 - val_accuracy: 0.9468\n",
            "Epoch 131/350\n",
            "12/12 [==============================] - 0s 5ms/step - loss: 0.1692 - accuracy: 0.9396 - val_loss: 0.1662 - val_accuracy: 0.9415\n",
            "Epoch 132/350\n",
            "12/12 [==============================] - 0s 4ms/step - loss: 0.1744 - accuracy: 0.9239 - val_loss: 0.1654 - val_accuracy: 0.9415\n",
            "Epoch 133/350\n",
            "12/12 [==============================] - 0s 5ms/step - loss: 0.1630 - accuracy: 0.9423 - val_loss: 0.1656 - val_accuracy: 0.9468\n",
            "Epoch 134/350\n",
            "12/12 [==============================] - 0s 6ms/step - loss: 0.1804 - accuracy: 0.9160 - val_loss: 0.1645 - val_accuracy: 0.9468\n",
            "Epoch 135/350\n",
            "12/12 [==============================] - 0s 5ms/step - loss: 0.1740 - accuracy: 0.9108 - val_loss: 0.1636 - val_accuracy: 0.9415\n",
            "Epoch 136/350\n",
            "12/12 [==============================] - 0s 5ms/step - loss: 0.1739 - accuracy: 0.9239 - val_loss: 0.1632 - val_accuracy: 0.9362\n",
            "Epoch 137/350\n",
            "12/12 [==============================] - 0s 5ms/step - loss: 0.1591 - accuracy: 0.9318 - val_loss: 0.1627 - val_accuracy: 0.9468\n",
            "Epoch 138/350\n",
            "12/12 [==============================] - 0s 4ms/step - loss: 0.1663 - accuracy: 0.9186 - val_loss: 0.1622 - val_accuracy: 0.9468\n",
            "Epoch 139/350\n",
            "12/12 [==============================] - 0s 5ms/step - loss: 0.1516 - accuracy: 0.9449 - val_loss: 0.1613 - val_accuracy: 0.9468\n",
            "Epoch 140/350\n",
            "12/12 [==============================] - 0s 5ms/step - loss: 0.1711 - accuracy: 0.9160 - val_loss: 0.1604 - val_accuracy: 0.9468\n",
            "Epoch 141/350\n",
            "12/12 [==============================] - 0s 6ms/step - loss: 0.1705 - accuracy: 0.9291 - val_loss: 0.1593 - val_accuracy: 0.9468\n",
            "Epoch 142/350\n",
            "12/12 [==============================] - 0s 6ms/step - loss: 0.1628 - accuracy: 0.9108 - val_loss: 0.1586 - val_accuracy: 0.9468\n",
            "Epoch 143/350\n",
            "12/12 [==============================] - 0s 6ms/step - loss: 0.1623 - accuracy: 0.9213 - val_loss: 0.1579 - val_accuracy: 0.9468\n",
            "Epoch 144/350\n",
            "12/12 [==============================] - 0s 6ms/step - loss: 0.1583 - accuracy: 0.9239 - val_loss: 0.1570 - val_accuracy: 0.9468\n",
            "Epoch 145/350\n",
            "12/12 [==============================] - 0s 6ms/step - loss: 0.1601 - accuracy: 0.9344 - val_loss: 0.1562 - val_accuracy: 0.9468\n",
            "Epoch 146/350\n",
            "12/12 [==============================] - 0s 6ms/step - loss: 0.1538 - accuracy: 0.9344 - val_loss: 0.1561 - val_accuracy: 0.9415\n",
            "Epoch 147/350\n",
            "12/12 [==============================] - 0s 5ms/step - loss: 0.1736 - accuracy: 0.9265 - val_loss: 0.1554 - val_accuracy: 0.9468\n",
            "Epoch 148/350\n",
            "12/12 [==============================] - 0s 5ms/step - loss: 0.1613 - accuracy: 0.9265 - val_loss: 0.1544 - val_accuracy: 0.9521\n",
            "Epoch 149/350\n",
            "12/12 [==============================] - 0s 4ms/step - loss: 0.1689 - accuracy: 0.9081 - val_loss: 0.1540 - val_accuracy: 0.9521\n",
            "Epoch 150/350\n",
            "12/12 [==============================] - 0s 5ms/step - loss: 0.1566 - accuracy: 0.9265 - val_loss: 0.1535 - val_accuracy: 0.9468\n",
            "Epoch 151/350\n",
            "12/12 [==============================] - 0s 6ms/step - loss: 0.1665 - accuracy: 0.9213 - val_loss: 0.1534 - val_accuracy: 0.9521\n",
            "Epoch 152/350\n",
            "12/12 [==============================] - 0s 6ms/step - loss: 0.1606 - accuracy: 0.9239 - val_loss: 0.1527 - val_accuracy: 0.9521\n",
            "Epoch 153/350\n",
            "12/12 [==============================] - 0s 5ms/step - loss: 0.1645 - accuracy: 0.9265 - val_loss: 0.1523 - val_accuracy: 0.9468\n",
            "Epoch 154/350\n",
            "12/12 [==============================] - 0s 7ms/step - loss: 0.1336 - accuracy: 0.9396 - val_loss: 0.1511 - val_accuracy: 0.9521\n",
            "Epoch 155/350\n",
            "12/12 [==============================] - 0s 5ms/step - loss: 0.1601 - accuracy: 0.9265 - val_loss: 0.1504 - val_accuracy: 0.9521\n",
            "Epoch 156/350\n",
            "12/12 [==============================] - 0s 6ms/step - loss: 0.1473 - accuracy: 0.9318 - val_loss: 0.1501 - val_accuracy: 0.9521\n",
            "Epoch 157/350\n",
            "12/12 [==============================] - 0s 6ms/step - loss: 0.1539 - accuracy: 0.9239 - val_loss: 0.1496 - val_accuracy: 0.9521\n",
            "Epoch 158/350\n",
            "12/12 [==============================] - 0s 4ms/step - loss: 0.1456 - accuracy: 0.9370 - val_loss: 0.1488 - val_accuracy: 0.9521\n",
            "Epoch 159/350\n",
            "12/12 [==============================] - 0s 5ms/step - loss: 0.1641 - accuracy: 0.9239 - val_loss: 0.1480 - val_accuracy: 0.9521\n",
            "Epoch 160/350\n",
            "12/12 [==============================] - 0s 6ms/step - loss: 0.1480 - accuracy: 0.9291 - val_loss: 0.1475 - val_accuracy: 0.9521\n",
            "Epoch 161/350\n",
            "12/12 [==============================] - 0s 5ms/step - loss: 0.1335 - accuracy: 0.9554 - val_loss: 0.1471 - val_accuracy: 0.9521\n",
            "Epoch 162/350\n",
            "12/12 [==============================] - 0s 6ms/step - loss: 0.1499 - accuracy: 0.9239 - val_loss: 0.1463 - val_accuracy: 0.9521\n",
            "Epoch 163/350\n",
            "12/12 [==============================] - 0s 4ms/step - loss: 0.1449 - accuracy: 0.9344 - val_loss: 0.1460 - val_accuracy: 0.9468\n",
            "Epoch 164/350\n",
            "12/12 [==============================] - 0s 6ms/step - loss: 0.1458 - accuracy: 0.9423 - val_loss: 0.1457 - val_accuracy: 0.9521\n",
            "Epoch 165/350\n",
            "12/12 [==============================] - 0s 6ms/step - loss: 0.1334 - accuracy: 0.9449 - val_loss: 0.1447 - val_accuracy: 0.9521\n",
            "Epoch 166/350\n",
            "12/12 [==============================] - 0s 5ms/step - loss: 0.1559 - accuracy: 0.9186 - val_loss: 0.1440 - val_accuracy: 0.9468\n",
            "Epoch 167/350\n",
            "12/12 [==============================] - 0s 4ms/step - loss: 0.1305 - accuracy: 0.9501 - val_loss: 0.1437 - val_accuracy: 0.9521\n",
            "Epoch 168/350\n",
            "12/12 [==============================] - 0s 5ms/step - loss: 0.1427 - accuracy: 0.9396 - val_loss: 0.1440 - val_accuracy: 0.9521\n",
            "Epoch 169/350\n",
            "12/12 [==============================] - 0s 7ms/step - loss: 0.1565 - accuracy: 0.9239 - val_loss: 0.1428 - val_accuracy: 0.9521\n",
            "Epoch 170/350\n",
            "12/12 [==============================] - 0s 6ms/step - loss: 0.1510 - accuracy: 0.9239 - val_loss: 0.1425 - val_accuracy: 0.9574\n",
            "Epoch 171/350\n",
            "12/12 [==============================] - 0s 7ms/step - loss: 0.1520 - accuracy: 0.9186 - val_loss: 0.1422 - val_accuracy: 0.9521\n",
            "Epoch 172/350\n",
            "12/12 [==============================] - 0s 4ms/step - loss: 0.1321 - accuracy: 0.9501 - val_loss: 0.1430 - val_accuracy: 0.9521\n",
            "Epoch 173/350\n",
            "12/12 [==============================] - 0s 4ms/step - loss: 0.1371 - accuracy: 0.9318 - val_loss: 0.1422 - val_accuracy: 0.9521\n",
            "Epoch 174/350\n",
            "12/12 [==============================] - 0s 7ms/step - loss: 0.1304 - accuracy: 0.9370 - val_loss: 0.1407 - val_accuracy: 0.9574\n",
            "Epoch 175/350\n",
            "12/12 [==============================] - 0s 6ms/step - loss: 0.1388 - accuracy: 0.9318 - val_loss: 0.1402 - val_accuracy: 0.9628\n",
            "Epoch 176/350\n",
            "12/12 [==============================] - 0s 5ms/step - loss: 0.1325 - accuracy: 0.9501 - val_loss: 0.1396 - val_accuracy: 0.9628\n",
            "Epoch 177/350\n",
            "12/12 [==============================] - 0s 6ms/step - loss: 0.1382 - accuracy: 0.9265 - val_loss: 0.1392 - val_accuracy: 0.9521\n",
            "Epoch 178/350\n",
            "12/12 [==============================] - 0s 5ms/step - loss: 0.1456 - accuracy: 0.9186 - val_loss: 0.1395 - val_accuracy: 0.9521\n",
            "Epoch 179/350\n",
            "12/12 [==============================] - 0s 6ms/step - loss: 0.1403 - accuracy: 0.9318 - val_loss: 0.1391 - val_accuracy: 0.9628\n",
            "Epoch 180/350\n",
            "12/12 [==============================] - 0s 4ms/step - loss: 0.1260 - accuracy: 0.9449 - val_loss: 0.1387 - val_accuracy: 0.9628\n",
            "Epoch 181/350\n",
            "12/12 [==============================] - 0s 4ms/step - loss: 0.1510 - accuracy: 0.9160 - val_loss: 0.1381 - val_accuracy: 0.9628\n",
            "Epoch 182/350\n",
            "12/12 [==============================] - 0s 4ms/step - loss: 0.1528 - accuracy: 0.9160 - val_loss: 0.1379 - val_accuracy: 0.9628\n",
            "Epoch 183/350\n",
            "12/12 [==============================] - 0s 6ms/step - loss: 0.1454 - accuracy: 0.9239 - val_loss: 0.1378 - val_accuracy: 0.9628\n",
            "Epoch 184/350\n",
            "12/12 [==============================] - 0s 6ms/step - loss: 0.1256 - accuracy: 0.9475 - val_loss: 0.1373 - val_accuracy: 0.9628\n",
            "Epoch 185/350\n",
            "12/12 [==============================] - 0s 4ms/step - loss: 0.1339 - accuracy: 0.9265 - val_loss: 0.1366 - val_accuracy: 0.9628\n",
            "Epoch 186/350\n",
            "12/12 [==============================] - 0s 4ms/step - loss: 0.1347 - accuracy: 0.9423 - val_loss: 0.1365 - val_accuracy: 0.9574\n",
            "Epoch 187/350\n",
            "12/12 [==============================] - 0s 5ms/step - loss: 0.1280 - accuracy: 0.9423 - val_loss: 0.1357 - val_accuracy: 0.9628\n",
            "Epoch 188/350\n",
            "12/12 [==============================] - 0s 5ms/step - loss: 0.1333 - accuracy: 0.9396 - val_loss: 0.1355 - val_accuracy: 0.9574\n",
            "Epoch 189/350\n",
            "12/12 [==============================] - 0s 5ms/step - loss: 0.1267 - accuracy: 0.9423 - val_loss: 0.1353 - val_accuracy: 0.9574\n",
            "Epoch 190/350\n",
            "12/12 [==============================] - 0s 6ms/step - loss: 0.1380 - accuracy: 0.9396 - val_loss: 0.1349 - val_accuracy: 0.9574\n",
            "Epoch 191/350\n",
            "12/12 [==============================] - 0s 6ms/step - loss: 0.1155 - accuracy: 0.9501 - val_loss: 0.1340 - val_accuracy: 0.9628\n",
            "Epoch 192/350\n",
            "12/12 [==============================] - 0s 4ms/step - loss: 0.1242 - accuracy: 0.9475 - val_loss: 0.1336 - val_accuracy: 0.9628\n",
            "Epoch 193/350\n",
            "12/12 [==============================] - 0s 5ms/step - loss: 0.1363 - accuracy: 0.9344 - val_loss: 0.1331 - val_accuracy: 0.9521\n",
            "Epoch 194/350\n",
            "12/12 [==============================] - 0s 4ms/step - loss: 0.1346 - accuracy: 0.9265 - val_loss: 0.1327 - val_accuracy: 0.9628\n",
            "Epoch 195/350\n",
            "12/12 [==============================] - 0s 5ms/step - loss: 0.1357 - accuracy: 0.9423 - val_loss: 0.1327 - val_accuracy: 0.9628\n",
            "Epoch 196/350\n",
            "12/12 [==============================] - 0s 5ms/step - loss: 0.1271 - accuracy: 0.9291 - val_loss: 0.1331 - val_accuracy: 0.9574\n",
            "Epoch 197/350\n",
            "12/12 [==============================] - 0s 6ms/step - loss: 0.1302 - accuracy: 0.9370 - val_loss: 0.1328 - val_accuracy: 0.9574\n",
            "Epoch 198/350\n",
            "12/12 [==============================] - 0s 4ms/step - loss: 0.1133 - accuracy: 0.9501 - val_loss: 0.1318 - val_accuracy: 0.9628\n",
            "Epoch 199/350\n",
            "12/12 [==============================] - 0s 5ms/step - loss: 0.1343 - accuracy: 0.9370 - val_loss: 0.1316 - val_accuracy: 0.9628\n",
            "Epoch 200/350\n",
            "12/12 [==============================] - 0s 6ms/step - loss: 0.1220 - accuracy: 0.9501 - val_loss: 0.1314 - val_accuracy: 0.9628\n",
            "Epoch 201/350\n",
            "12/12 [==============================] - 0s 4ms/step - loss: 0.1337 - accuracy: 0.9239 - val_loss: 0.1315 - val_accuracy: 0.9574\n",
            "Epoch 202/350\n",
            "12/12 [==============================] - 0s 6ms/step - loss: 0.1253 - accuracy: 0.9449 - val_loss: 0.1312 - val_accuracy: 0.9574\n",
            "Epoch 203/350\n",
            "12/12 [==============================] - 0s 5ms/step - loss: 0.1185 - accuracy: 0.9475 - val_loss: 0.1310 - val_accuracy: 0.9574\n",
            "Epoch 204/350\n",
            "12/12 [==============================] - 0s 5ms/step - loss: 0.1370 - accuracy: 0.9344 - val_loss: 0.1305 - val_accuracy: 0.9628\n",
            "Epoch 205/350\n",
            "12/12 [==============================] - 0s 4ms/step - loss: 0.1201 - accuracy: 0.9501 - val_loss: 0.1302 - val_accuracy: 0.9574\n",
            "Epoch 206/350\n",
            "12/12 [==============================] - 0s 6ms/step - loss: 0.1346 - accuracy: 0.9213 - val_loss: 0.1301 - val_accuracy: 0.9574\n",
            "Epoch 207/350\n",
            "12/12 [==============================] - 0s 4ms/step - loss: 0.1408 - accuracy: 0.9213 - val_loss: 0.1299 - val_accuracy: 0.9574\n",
            "Epoch 208/350\n",
            "12/12 [==============================] - 0s 6ms/step - loss: 0.1225 - accuracy: 0.9475 - val_loss: 0.1289 - val_accuracy: 0.9628\n",
            "Epoch 209/350\n",
            "12/12 [==============================] - 0s 5ms/step - loss: 0.1185 - accuracy: 0.9475 - val_loss: 0.1291 - val_accuracy: 0.9574\n",
            "Epoch 210/350\n",
            "12/12 [==============================] - 0s 5ms/step - loss: 0.1293 - accuracy: 0.9318 - val_loss: 0.1287 - val_accuracy: 0.9574\n",
            "Epoch 211/350\n",
            "12/12 [==============================] - 0s 6ms/step - loss: 0.1368 - accuracy: 0.9186 - val_loss: 0.1279 - val_accuracy: 0.9628\n",
            "Epoch 212/350\n",
            "12/12 [==============================] - 0s 4ms/step - loss: 0.1312 - accuracy: 0.9213 - val_loss: 0.1276 - val_accuracy: 0.9628\n",
            "Epoch 213/350\n",
            "12/12 [==============================] - 0s 5ms/step - loss: 0.1253 - accuracy: 0.9344 - val_loss: 0.1277 - val_accuracy: 0.9574\n",
            "Epoch 214/350\n",
            "12/12 [==============================] - 0s 4ms/step - loss: 0.1155 - accuracy: 0.9475 - val_loss: 0.1276 - val_accuracy: 0.9628\n",
            "Epoch 215/350\n",
            "12/12 [==============================] - 0s 6ms/step - loss: 0.1123 - accuracy: 0.9423 - val_loss: 0.1277 - val_accuracy: 0.9628\n",
            "Epoch 216/350\n",
            "12/12 [==============================] - 0s 6ms/step - loss: 0.1371 - accuracy: 0.9160 - val_loss: 0.1270 - val_accuracy: 0.9628\n",
            "Epoch 217/350\n",
            "12/12 [==============================] - 0s 4ms/step - loss: 0.1148 - accuracy: 0.9528 - val_loss: 0.1261 - val_accuracy: 0.9628\n",
            "Epoch 218/350\n",
            "12/12 [==============================] - 0s 5ms/step - loss: 0.1106 - accuracy: 0.9501 - val_loss: 0.1260 - val_accuracy: 0.9574\n",
            "Epoch 219/350\n",
            "12/12 [==============================] - 0s 6ms/step - loss: 0.1117 - accuracy: 0.9501 - val_loss: 0.1259 - val_accuracy: 0.9628\n",
            "Epoch 220/350\n",
            "12/12 [==============================] - 0s 5ms/step - loss: 0.1085 - accuracy: 0.9554 - val_loss: 0.1258 - val_accuracy: 0.9628\n",
            "Epoch 221/350\n",
            "12/12 [==============================] - 0s 4ms/step - loss: 0.1226 - accuracy: 0.9344 - val_loss: 0.1252 - val_accuracy: 0.9628\n",
            "Epoch 222/350\n",
            "12/12 [==============================] - 0s 5ms/step - loss: 0.1137 - accuracy: 0.9501 - val_loss: 0.1255 - val_accuracy: 0.9628\n",
            "Epoch 223/350\n",
            "12/12 [==============================] - 0s 6ms/step - loss: 0.1080 - accuracy: 0.9475 - val_loss: 0.1246 - val_accuracy: 0.9628\n",
            "Epoch 224/350\n",
            "12/12 [==============================] - 0s 5ms/step - loss: 0.1210 - accuracy: 0.9291 - val_loss: 0.1238 - val_accuracy: 0.9681\n",
            "Epoch 225/350\n",
            "12/12 [==============================] - 0s 5ms/step - loss: 0.1373 - accuracy: 0.9055 - val_loss: 0.1246 - val_accuracy: 0.9628\n",
            "Epoch 226/350\n",
            "12/12 [==============================] - 0s 4ms/step - loss: 0.1189 - accuracy: 0.9659 - val_loss: 0.1244 - val_accuracy: 0.9628\n",
            "Epoch 227/350\n",
            "12/12 [==============================] - 0s 5ms/step - loss: 0.1129 - accuracy: 0.9711 - val_loss: 0.1239 - val_accuracy: 0.9628\n",
            "Epoch 228/350\n",
            "12/12 [==============================] - 0s 5ms/step - loss: 0.1125 - accuracy: 0.9711 - val_loss: 0.1246 - val_accuracy: 0.9628\n",
            "Epoch 229/350\n",
            "12/12 [==============================] - 0s 5ms/step - loss: 0.1096 - accuracy: 0.9685 - val_loss: 0.1235 - val_accuracy: 0.9628\n",
            "Epoch 230/350\n",
            "12/12 [==============================] - 0s 5ms/step - loss: 0.1256 - accuracy: 0.9659 - val_loss: 0.1230 - val_accuracy: 0.9628\n",
            "Epoch 231/350\n",
            "12/12 [==============================] - 0s 5ms/step - loss: 0.1190 - accuracy: 0.9580 - val_loss: 0.1228 - val_accuracy: 0.9628\n",
            "Epoch 232/350\n",
            "12/12 [==============================] - 0s 6ms/step - loss: 0.1136 - accuracy: 0.9711 - val_loss: 0.1229 - val_accuracy: 0.9628\n",
            "Epoch 233/350\n",
            "12/12 [==============================] - 0s 5ms/step - loss: 0.1077 - accuracy: 0.9633 - val_loss: 0.1220 - val_accuracy: 0.9628\n",
            "Epoch 234/350\n",
            "12/12 [==============================] - 0s 4ms/step - loss: 0.1121 - accuracy: 0.9633 - val_loss: 0.1218 - val_accuracy: 0.9628\n",
            "Epoch 235/350\n",
            "12/12 [==============================] - 0s 5ms/step - loss: 0.1229 - accuracy: 0.9633 - val_loss: 0.1225 - val_accuracy: 0.9628\n",
            "Epoch 236/350\n",
            "12/12 [==============================] - 0s 6ms/step - loss: 0.1248 - accuracy: 0.9633 - val_loss: 0.1222 - val_accuracy: 0.9628\n",
            "Epoch 237/350\n",
            "12/12 [==============================] - 0s 5ms/step - loss: 0.1239 - accuracy: 0.9738 - val_loss: 0.1220 - val_accuracy: 0.9628\n",
            "Epoch 238/350\n",
            "12/12 [==============================] - 0s 5ms/step - loss: 0.1139 - accuracy: 0.9659 - val_loss: 0.1216 - val_accuracy: 0.9628\n",
            "Epoch 239/350\n",
            "12/12 [==============================] - 0s 4ms/step - loss: 0.1282 - accuracy: 0.9633 - val_loss: 0.1216 - val_accuracy: 0.9628\n",
            "Epoch 240/350\n",
            "12/12 [==============================] - 0s 6ms/step - loss: 0.1052 - accuracy: 0.9711 - val_loss: 0.1216 - val_accuracy: 0.9628\n",
            "Epoch 241/350\n",
            "12/12 [==============================] - 0s 6ms/step - loss: 0.1094 - accuracy: 0.9685 - val_loss: 0.1212 - val_accuracy: 0.9681\n",
            "Epoch 242/350\n",
            "12/12 [==============================] - 0s 5ms/step - loss: 0.1172 - accuracy: 0.9685 - val_loss: 0.1209 - val_accuracy: 0.9628\n",
            "Epoch 243/350\n",
            "12/12 [==============================] - 0s 6ms/step - loss: 0.1048 - accuracy: 0.9738 - val_loss: 0.1207 - val_accuracy: 0.9628\n",
            "Epoch 244/350\n",
            "12/12 [==============================] - 0s 4ms/step - loss: 0.1042 - accuracy: 0.9685 - val_loss: 0.1202 - val_accuracy: 0.9681\n",
            "Epoch 245/350\n",
            "12/12 [==============================] - 0s 6ms/step - loss: 0.0962 - accuracy: 0.9738 - val_loss: 0.1198 - val_accuracy: 0.9681\n",
            "Epoch 246/350\n",
            "12/12 [==============================] - 0s 5ms/step - loss: 0.1057 - accuracy: 0.9659 - val_loss: 0.1195 - val_accuracy: 0.9681\n",
            "Epoch 247/350\n",
            "12/12 [==============================] - 0s 5ms/step - loss: 0.1035 - accuracy: 0.9790 - val_loss: 0.1194 - val_accuracy: 0.9628\n",
            "Epoch 248/350\n",
            "12/12 [==============================] - 0s 5ms/step - loss: 0.0994 - accuracy: 0.9659 - val_loss: 0.1198 - val_accuracy: 0.9628\n",
            "Epoch 249/350\n",
            "12/12 [==============================] - 0s 6ms/step - loss: 0.1098 - accuracy: 0.9738 - val_loss: 0.1194 - val_accuracy: 0.9628\n",
            "Epoch 250/350\n",
            "12/12 [==============================] - 0s 5ms/step - loss: 0.1231 - accuracy: 0.9554 - val_loss: 0.1191 - val_accuracy: 0.9628\n",
            "Epoch 251/350\n",
            "12/12 [==============================] - 0s 6ms/step - loss: 0.1073 - accuracy: 0.9554 - val_loss: 0.1191 - val_accuracy: 0.9628\n",
            "Epoch 252/350\n",
            "12/12 [==============================] - 0s 7ms/step - loss: 0.0990 - accuracy: 0.9685 - val_loss: 0.1188 - val_accuracy: 0.9681\n",
            "Epoch 253/350\n",
            "12/12 [==============================] - 0s 5ms/step - loss: 0.1151 - accuracy: 0.9606 - val_loss: 0.1187 - val_accuracy: 0.9681\n",
            "Epoch 254/350\n",
            "12/12 [==============================] - 0s 6ms/step - loss: 0.1210 - accuracy: 0.9738 - val_loss: 0.1188 - val_accuracy: 0.9628\n",
            "Epoch 255/350\n",
            "12/12 [==============================] - 0s 5ms/step - loss: 0.1046 - accuracy: 0.9790 - val_loss: 0.1189 - val_accuracy: 0.9628\n",
            "Epoch 256/350\n",
            "12/12 [==============================] - 0s 5ms/step - loss: 0.1021 - accuracy: 0.9685 - val_loss: 0.1193 - val_accuracy: 0.9628\n",
            "Epoch 257/350\n",
            "12/12 [==============================] - 0s 8ms/step - loss: 0.1162 - accuracy: 0.9633 - val_loss: 0.1190 - val_accuracy: 0.9628\n",
            "Epoch 258/350\n",
            "12/12 [==============================] - 0s 7ms/step - loss: 0.1059 - accuracy: 0.9659 - val_loss: 0.1182 - val_accuracy: 0.9628\n",
            "Epoch 259/350\n",
            "12/12 [==============================] - 0s 5ms/step - loss: 0.1102 - accuracy: 0.9659 - val_loss: 0.1182 - val_accuracy: 0.9628\n",
            "Epoch 260/350\n",
            "12/12 [==============================] - 0s 6ms/step - loss: 0.0907 - accuracy: 0.9764 - val_loss: 0.1181 - val_accuracy: 0.9628\n",
            "Epoch 261/350\n",
            "12/12 [==============================] - 0s 5ms/step - loss: 0.1113 - accuracy: 0.9685 - val_loss: 0.1177 - val_accuracy: 0.9628\n",
            "Epoch 262/350\n",
            "12/12 [==============================] - 0s 6ms/step - loss: 0.0990 - accuracy: 0.9790 - val_loss: 0.1188 - val_accuracy: 0.9628\n",
            "Epoch 263/350\n",
            "12/12 [==============================] - 0s 5ms/step - loss: 0.1158 - accuracy: 0.9711 - val_loss: 0.1177 - val_accuracy: 0.9628\n",
            "Epoch 264/350\n",
            "12/12 [==============================] - 0s 5ms/step - loss: 0.0974 - accuracy: 0.9711 - val_loss: 0.1174 - val_accuracy: 0.9628\n",
            "Epoch 265/350\n",
            "12/12 [==============================] - 0s 4ms/step - loss: 0.1048 - accuracy: 0.9685 - val_loss: 0.1170 - val_accuracy: 0.9628\n",
            "Epoch 266/350\n",
            "12/12 [==============================] - 0s 4ms/step - loss: 0.1008 - accuracy: 0.9738 - val_loss: 0.1163 - val_accuracy: 0.9628\n",
            "Epoch 267/350\n",
            "12/12 [==============================] - 0s 6ms/step - loss: 0.1088 - accuracy: 0.9659 - val_loss: 0.1167 - val_accuracy: 0.9628\n",
            "Epoch 268/350\n",
            "12/12 [==============================] - 0s 6ms/step - loss: 0.0927 - accuracy: 0.9816 - val_loss: 0.1163 - val_accuracy: 0.9628\n",
            "Epoch 269/350\n",
            "12/12 [==============================] - 0s 6ms/step - loss: 0.1115 - accuracy: 0.9633 - val_loss: 0.1164 - val_accuracy: 0.9628\n",
            "Epoch 270/350\n",
            "12/12 [==============================] - 0s 5ms/step - loss: 0.1025 - accuracy: 0.9738 - val_loss: 0.1159 - val_accuracy: 0.9628\n",
            "Epoch 271/350\n",
            "12/12 [==============================] - 0s 6ms/step - loss: 0.1104 - accuracy: 0.9659 - val_loss: 0.1156 - val_accuracy: 0.9681\n",
            "Epoch 272/350\n",
            "12/12 [==============================] - 0s 6ms/step - loss: 0.1066 - accuracy: 0.9711 - val_loss: 0.1156 - val_accuracy: 0.9681\n",
            "Epoch 273/350\n",
            "12/12 [==============================] - 0s 4ms/step - loss: 0.1094 - accuracy: 0.9685 - val_loss: 0.1160 - val_accuracy: 0.9628\n",
            "Epoch 274/350\n",
            "12/12 [==============================] - 0s 5ms/step - loss: 0.1038 - accuracy: 0.9738 - val_loss: 0.1163 - val_accuracy: 0.9628\n",
            "Epoch 275/350\n",
            "12/12 [==============================] - 0s 6ms/step - loss: 0.1106 - accuracy: 0.9738 - val_loss: 0.1162 - val_accuracy: 0.9628\n",
            "Epoch 276/350\n",
            "12/12 [==============================] - 0s 5ms/step - loss: 0.0993 - accuracy: 0.9659 - val_loss: 0.1157 - val_accuracy: 0.9734\n",
            "Epoch 277/350\n",
            "12/12 [==============================] - 0s 6ms/step - loss: 0.1042 - accuracy: 0.9738 - val_loss: 0.1163 - val_accuracy: 0.9628\n",
            "Epoch 278/350\n",
            "12/12 [==============================] - 0s 5ms/step - loss: 0.0957 - accuracy: 0.9711 - val_loss: 0.1157 - val_accuracy: 0.9628\n",
            "Epoch 279/350\n",
            "12/12 [==============================] - 0s 4ms/step - loss: 0.1056 - accuracy: 0.9659 - val_loss: 0.1150 - val_accuracy: 0.9734\n",
            "Epoch 280/350\n",
            "12/12 [==============================] - 0s 4ms/step - loss: 0.1045 - accuracy: 0.9711 - val_loss: 0.1151 - val_accuracy: 0.9681\n",
            "Epoch 281/350\n",
            "12/12 [==============================] - 0s 4ms/step - loss: 0.0961 - accuracy: 0.9816 - val_loss: 0.1153 - val_accuracy: 0.9681\n",
            "Epoch 282/350\n",
            "12/12 [==============================] - 0s 5ms/step - loss: 0.0950 - accuracy: 0.9738 - val_loss: 0.1150 - val_accuracy: 0.9681\n",
            "Epoch 283/350\n",
            "12/12 [==============================] - 0s 4ms/step - loss: 0.1000 - accuracy: 0.9711 - val_loss: 0.1145 - val_accuracy: 0.9734\n",
            "Epoch 284/350\n",
            "12/12 [==============================] - 0s 6ms/step - loss: 0.1016 - accuracy: 0.9738 - val_loss: 0.1152 - val_accuracy: 0.9628\n",
            "Epoch 285/350\n",
            "12/12 [==============================] - 0s 7ms/step - loss: 0.0940 - accuracy: 0.9764 - val_loss: 0.1158 - val_accuracy: 0.9628\n",
            "Epoch 286/350\n",
            "12/12 [==============================] - 0s 6ms/step - loss: 0.1070 - accuracy: 0.9711 - val_loss: 0.1152 - val_accuracy: 0.9628\n",
            "Epoch 287/350\n",
            "12/12 [==============================] - 0s 4ms/step - loss: 0.1095 - accuracy: 0.9685 - val_loss: 0.1144 - val_accuracy: 0.9734\n",
            "Epoch 288/350\n",
            "12/12 [==============================] - 0s 5ms/step - loss: 0.1102 - accuracy: 0.9659 - val_loss: 0.1145 - val_accuracy: 0.9734\n",
            "Epoch 289/350\n",
            "12/12 [==============================] - 0s 4ms/step - loss: 0.0890 - accuracy: 0.9816 - val_loss: 0.1144 - val_accuracy: 0.9734\n",
            "Epoch 290/350\n",
            "12/12 [==============================] - 0s 5ms/step - loss: 0.1093 - accuracy: 0.9659 - val_loss: 0.1143 - val_accuracy: 0.9734\n",
            "Epoch 291/350\n",
            "12/12 [==============================] - 0s 5ms/step - loss: 0.0999 - accuracy: 0.9711 - val_loss: 0.1146 - val_accuracy: 0.9734\n",
            "Epoch 292/350\n",
            "12/12 [==============================] - 0s 6ms/step - loss: 0.1104 - accuracy: 0.9711 - val_loss: 0.1147 - val_accuracy: 0.9681\n",
            "Epoch 293/350\n",
            "12/12 [==============================] - 0s 5ms/step - loss: 0.1013 - accuracy: 0.9738 - val_loss: 0.1138 - val_accuracy: 0.9734\n",
            "Epoch 294/350\n",
            "12/12 [==============================] - 0s 4ms/step - loss: 0.0956 - accuracy: 0.9685 - val_loss: 0.1140 - val_accuracy: 0.9734\n",
            "Epoch 295/350\n",
            "12/12 [==============================] - 0s 5ms/step - loss: 0.0992 - accuracy: 0.9816 - val_loss: 0.1143 - val_accuracy: 0.9734\n",
            "Epoch 296/350\n",
            "12/12 [==============================] - 0s 4ms/step - loss: 0.0973 - accuracy: 0.9711 - val_loss: 0.1147 - val_accuracy: 0.9628\n",
            "Epoch 297/350\n",
            "12/12 [==============================] - 0s 4ms/step - loss: 0.0969 - accuracy: 0.9711 - val_loss: 0.1137 - val_accuracy: 0.9734\n",
            "Epoch 298/350\n",
            "12/12 [==============================] - 0s 5ms/step - loss: 0.1047 - accuracy: 0.9685 - val_loss: 0.1137 - val_accuracy: 0.9734\n",
            "Epoch 299/350\n",
            "12/12 [==============================] - 0s 5ms/step - loss: 0.1076 - accuracy: 0.9711 - val_loss: 0.1142 - val_accuracy: 0.9734\n",
            "Epoch 300/350\n",
            "12/12 [==============================] - 0s 5ms/step - loss: 0.0874 - accuracy: 0.9764 - val_loss: 0.1144 - val_accuracy: 0.9734\n",
            "Epoch 301/350\n",
            "12/12 [==============================] - 0s 4ms/step - loss: 0.0820 - accuracy: 0.9790 - val_loss: 0.1137 - val_accuracy: 0.9734\n",
            "Epoch 302/350\n",
            "12/12 [==============================] - 0s 4ms/step - loss: 0.1019 - accuracy: 0.9711 - val_loss: 0.1136 - val_accuracy: 0.9734\n",
            "Epoch 303/350\n",
            "12/12 [==============================] - 0s 4ms/step - loss: 0.0915 - accuracy: 0.9816 - val_loss: 0.1142 - val_accuracy: 0.9734\n",
            "Epoch 304/350\n",
            "12/12 [==============================] - 0s 6ms/step - loss: 0.0969 - accuracy: 0.9738 - val_loss: 0.1144 - val_accuracy: 0.9681\n",
            "Epoch 305/350\n",
            "12/12 [==============================] - 0s 4ms/step - loss: 0.0822 - accuracy: 0.9869 - val_loss: 0.1134 - val_accuracy: 0.9734\n",
            "Epoch 306/350\n",
            "12/12 [==============================] - 0s 5ms/step - loss: 0.0973 - accuracy: 0.9711 - val_loss: 0.1125 - val_accuracy: 0.9734\n",
            "Epoch 307/350\n",
            "12/12 [==============================] - 0s 7ms/step - loss: 0.1068 - accuracy: 0.9659 - val_loss: 0.1123 - val_accuracy: 0.9734\n",
            "Epoch 308/350\n",
            "12/12 [==============================] - 0s 6ms/step - loss: 0.0978 - accuracy: 0.9816 - val_loss: 0.1122 - val_accuracy: 0.9734\n",
            "Epoch 309/350\n",
            "12/12 [==============================] - 0s 4ms/step - loss: 0.0802 - accuracy: 0.9816 - val_loss: 0.1128 - val_accuracy: 0.9734\n",
            "Epoch 310/350\n",
            "12/12 [==============================] - 0s 5ms/step - loss: 0.0950 - accuracy: 0.9816 - val_loss: 0.1134 - val_accuracy: 0.9734\n",
            "Epoch 311/350\n",
            "12/12 [==============================] - 0s 6ms/step - loss: 0.1039 - accuracy: 0.9606 - val_loss: 0.1137 - val_accuracy: 0.9734\n",
            "Epoch 312/350\n",
            "12/12 [==============================] - 0s 5ms/step - loss: 0.1014 - accuracy: 0.9816 - val_loss: 0.1123 - val_accuracy: 0.9734\n",
            "Epoch 313/350\n",
            "12/12 [==============================] - 0s 6ms/step - loss: 0.0822 - accuracy: 0.9790 - val_loss: 0.1132 - val_accuracy: 0.9734\n",
            "Epoch 314/350\n",
            "12/12 [==============================] - 0s 5ms/step - loss: 0.0839 - accuracy: 0.9738 - val_loss: 0.1119 - val_accuracy: 0.9734\n",
            "Epoch 315/350\n",
            "12/12 [==============================] - 0s 6ms/step - loss: 0.0827 - accuracy: 0.9816 - val_loss: 0.1112 - val_accuracy: 0.9734\n",
            "Epoch 316/350\n",
            "12/12 [==============================] - 0s 5ms/step - loss: 0.1137 - accuracy: 0.9633 - val_loss: 0.1115 - val_accuracy: 0.9734\n",
            "Epoch 317/350\n",
            "12/12 [==============================] - 0s 6ms/step - loss: 0.0925 - accuracy: 0.9711 - val_loss: 0.1120 - val_accuracy: 0.9734\n",
            "Epoch 318/350\n",
            "12/12 [==============================] - 0s 6ms/step - loss: 0.0935 - accuracy: 0.9764 - val_loss: 0.1117 - val_accuracy: 0.9734\n",
            "Epoch 319/350\n",
            "12/12 [==============================] - 0s 5ms/step - loss: 0.0893 - accuracy: 0.9738 - val_loss: 0.1122 - val_accuracy: 0.9734\n",
            "Epoch 320/350\n",
            "12/12 [==============================] - 0s 6ms/step - loss: 0.0944 - accuracy: 0.9711 - val_loss: 0.1122 - val_accuracy: 0.9734\n",
            "Epoch 321/350\n",
            "12/12 [==============================] - 0s 4ms/step - loss: 0.0924 - accuracy: 0.9790 - val_loss: 0.1127 - val_accuracy: 0.9734\n",
            "Epoch 322/350\n",
            "12/12 [==============================] - 0s 6ms/step - loss: 0.0835 - accuracy: 0.9790 - val_loss: 0.1128 - val_accuracy: 0.9734\n",
            "Epoch 323/350\n",
            "12/12 [==============================] - 0s 7ms/step - loss: 0.0951 - accuracy: 0.9843 - val_loss: 0.1122 - val_accuracy: 0.9734\n",
            "Epoch 324/350\n",
            "12/12 [==============================] - 0s 5ms/step - loss: 0.0740 - accuracy: 0.9869 - val_loss: 0.1120 - val_accuracy: 0.9734\n",
            "Epoch 325/350\n",
            "12/12 [==============================] - 0s 5ms/step - loss: 0.0922 - accuracy: 0.9843 - val_loss: 0.1113 - val_accuracy: 0.9734\n",
            "Epoch 326/350\n",
            "12/12 [==============================] - 0s 4ms/step - loss: 0.0750 - accuracy: 0.9895 - val_loss: 0.1108 - val_accuracy: 0.9734\n",
            "Epoch 327/350\n",
            "12/12 [==============================] - 0s 4ms/step - loss: 0.0909 - accuracy: 0.9816 - val_loss: 0.1114 - val_accuracy: 0.9734\n",
            "Epoch 328/350\n",
            "12/12 [==============================] - 0s 5ms/step - loss: 0.0864 - accuracy: 0.9843 - val_loss: 0.1122 - val_accuracy: 0.9734\n",
            "Epoch 329/350\n",
            "12/12 [==============================] - 0s 6ms/step - loss: 0.0935 - accuracy: 0.9685 - val_loss: 0.1109 - val_accuracy: 0.9734\n",
            "Epoch 330/350\n",
            "12/12 [==============================] - 0s 5ms/step - loss: 0.0897 - accuracy: 0.9738 - val_loss: 0.1113 - val_accuracy: 0.9734\n",
            "Epoch 331/350\n",
            "12/12 [==============================] - 0s 4ms/step - loss: 0.0863 - accuracy: 0.9843 - val_loss: 0.1112 - val_accuracy: 0.9734\n",
            "Epoch 332/350\n",
            "12/12 [==============================] - 0s 6ms/step - loss: 0.0912 - accuracy: 0.9843 - val_loss: 0.1114 - val_accuracy: 0.9734\n",
            "Epoch 333/350\n",
            "12/12 [==============================] - 0s 5ms/step - loss: 0.0958 - accuracy: 0.9790 - val_loss: 0.1105 - val_accuracy: 0.9734\n",
            "Epoch 334/350\n",
            "12/12 [==============================] - 0s 6ms/step - loss: 0.0888 - accuracy: 0.9816 - val_loss: 0.1105 - val_accuracy: 0.9734\n",
            "Epoch 335/350\n",
            "12/12 [==============================] - 0s 6ms/step - loss: 0.0823 - accuracy: 0.9816 - val_loss: 0.1114 - val_accuracy: 0.9734\n",
            "Epoch 336/350\n",
            "12/12 [==============================] - 0s 4ms/step - loss: 0.0948 - accuracy: 0.9711 - val_loss: 0.1117 - val_accuracy: 0.9734\n",
            "Epoch 337/350\n",
            "12/12 [==============================] - 0s 6ms/step - loss: 0.0862 - accuracy: 0.9790 - val_loss: 0.1108 - val_accuracy: 0.9734\n",
            "Epoch 338/350\n",
            "12/12 [==============================] - 0s 6ms/step - loss: 0.0750 - accuracy: 0.9816 - val_loss: 0.1106 - val_accuracy: 0.9734\n",
            "Epoch 339/350\n",
            "12/12 [==============================] - 0s 5ms/step - loss: 0.0972 - accuracy: 0.9685 - val_loss: 0.1108 - val_accuracy: 0.9734\n",
            "Epoch 340/350\n",
            "12/12 [==============================] - 0s 4ms/step - loss: 0.0855 - accuracy: 0.9816 - val_loss: 0.1104 - val_accuracy: 0.9734\n",
            "Epoch 341/350\n",
            "12/12 [==============================] - 0s 4ms/step - loss: 0.0844 - accuracy: 0.9764 - val_loss: 0.1108 - val_accuracy: 0.9734\n",
            "Epoch 342/350\n",
            "12/12 [==============================] - 0s 4ms/step - loss: 0.0809 - accuracy: 0.9843 - val_loss: 0.1106 - val_accuracy: 0.9734\n",
            "Epoch 343/350\n",
            "12/12 [==============================] - 0s 6ms/step - loss: 0.0846 - accuracy: 0.9764 - val_loss: 0.1107 - val_accuracy: 0.9734\n",
            "Epoch 344/350\n",
            "12/12 [==============================] - 0s 5ms/step - loss: 0.0867 - accuracy: 0.9711 - val_loss: 0.1117 - val_accuracy: 0.9734\n",
            "Epoch 345/350\n",
            "12/12 [==============================] - 0s 4ms/step - loss: 0.0852 - accuracy: 0.9738 - val_loss: 0.1115 - val_accuracy: 0.9734\n",
            "Epoch 346/350\n",
            "12/12 [==============================] - 0s 6ms/step - loss: 0.0905 - accuracy: 0.9738 - val_loss: 0.1105 - val_accuracy: 0.9734\n",
            "Epoch 347/350\n",
            "12/12 [==============================] - 0s 5ms/step - loss: 0.0911 - accuracy: 0.9816 - val_loss: 0.1104 - val_accuracy: 0.9734\n",
            "Epoch 348/350\n",
            "12/12 [==============================] - 0s 6ms/step - loss: 0.0886 - accuracy: 0.9764 - val_loss: 0.1105 - val_accuracy: 0.9734\n",
            "Epoch 349/350\n",
            "12/12 [==============================] - 0s 5ms/step - loss: 0.0917 - accuracy: 0.9738 - val_loss: 0.1106 - val_accuracy: 0.9734\n",
            "Epoch 350/350\n",
            "12/12 [==============================] - 0s 6ms/step - loss: 0.0832 - accuracy: 0.9738 - val_loss: 0.1112 - val_accuracy: 0.9734\n"
          ],
          "name": "stdout"
        }
      ]
    },
    {
      "cell_type": "code",
      "metadata": {
        "id": "lv6GnvXdshcv"
      },
      "source": [
        "losses = pd.DataFrame(model.history.history)"
      ],
      "execution_count": null,
      "outputs": []
    },
    {
      "cell_type": "code",
      "metadata": {
        "colab": {
          "base_uri": "https://localhost:8080/",
          "height": 419
        },
        "id": "wWSLwqvUso-t",
        "outputId": "87777016-56dd-4eeb-edf2-d57f2e8c8af4"
      },
      "source": [
        "losses"
      ],
      "execution_count": null,
      "outputs": [
        {
          "output_type": "execute_result",
          "data": {
            "text/html": [
              "<div>\n",
              "<style scoped>\n",
              "    .dataframe tbody tr th:only-of-type {\n",
              "        vertical-align: middle;\n",
              "    }\n",
              "\n",
              "    .dataframe tbody tr th {\n",
              "        vertical-align: top;\n",
              "    }\n",
              "\n",
              "    .dataframe thead th {\n",
              "        text-align: right;\n",
              "    }\n",
              "</style>\n",
              "<table border=\"1\" class=\"dataframe\">\n",
              "  <thead>\n",
              "    <tr style=\"text-align: right;\">\n",
              "      <th></th>\n",
              "      <th>loss</th>\n",
              "      <th>accuracy</th>\n",
              "      <th>val_loss</th>\n",
              "      <th>val_accuracy</th>\n",
              "    </tr>\n",
              "  </thead>\n",
              "  <tbody>\n",
              "    <tr>\n",
              "      <th>0</th>\n",
              "      <td>0.659795</td>\n",
              "      <td>0.632546</td>\n",
              "      <td>0.664361</td>\n",
              "      <td>0.601064</td>\n",
              "    </tr>\n",
              "    <tr>\n",
              "      <th>1</th>\n",
              "      <td>0.651210</td>\n",
              "      <td>0.645669</td>\n",
              "      <td>0.657833</td>\n",
              "      <td>0.601064</td>\n",
              "    </tr>\n",
              "    <tr>\n",
              "      <th>2</th>\n",
              "      <td>0.642743</td>\n",
              "      <td>0.640420</td>\n",
              "      <td>0.651536</td>\n",
              "      <td>0.601064</td>\n",
              "    </tr>\n",
              "    <tr>\n",
              "      <th>3</th>\n",
              "      <td>0.636825</td>\n",
              "      <td>0.640420</td>\n",
              "      <td>0.645791</td>\n",
              "      <td>0.601064</td>\n",
              "    </tr>\n",
              "    <tr>\n",
              "      <th>4</th>\n",
              "      <td>0.632223</td>\n",
              "      <td>0.640420</td>\n",
              "      <td>0.639624</td>\n",
              "      <td>0.601064</td>\n",
              "    </tr>\n",
              "    <tr>\n",
              "      <th>...</th>\n",
              "      <td>...</td>\n",
              "      <td>...</td>\n",
              "      <td>...</td>\n",
              "      <td>...</td>\n",
              "    </tr>\n",
              "    <tr>\n",
              "      <th>345</th>\n",
              "      <td>0.090480</td>\n",
              "      <td>0.973753</td>\n",
              "      <td>0.110463</td>\n",
              "      <td>0.973404</td>\n",
              "    </tr>\n",
              "    <tr>\n",
              "      <th>346</th>\n",
              "      <td>0.091122</td>\n",
              "      <td>0.981627</td>\n",
              "      <td>0.110393</td>\n",
              "      <td>0.973404</td>\n",
              "    </tr>\n",
              "    <tr>\n",
              "      <th>347</th>\n",
              "      <td>0.088624</td>\n",
              "      <td>0.976378</td>\n",
              "      <td>0.110549</td>\n",
              "      <td>0.973404</td>\n",
              "    </tr>\n",
              "    <tr>\n",
              "      <th>348</th>\n",
              "      <td>0.091695</td>\n",
              "      <td>0.973753</td>\n",
              "      <td>0.110640</td>\n",
              "      <td>0.973404</td>\n",
              "    </tr>\n",
              "    <tr>\n",
              "      <th>349</th>\n",
              "      <td>0.083174</td>\n",
              "      <td>0.973753</td>\n",
              "      <td>0.111188</td>\n",
              "      <td>0.973404</td>\n",
              "    </tr>\n",
              "  </tbody>\n",
              "</table>\n",
              "<p>350 rows × 4 columns</p>\n",
              "</div>"
            ],
            "text/plain": [
              "         loss  accuracy  val_loss  val_accuracy\n",
              "0    0.659795  0.632546  0.664361      0.601064\n",
              "1    0.651210  0.645669  0.657833      0.601064\n",
              "2    0.642743  0.640420  0.651536      0.601064\n",
              "3    0.636825  0.640420  0.645791      0.601064\n",
              "4    0.632223  0.640420  0.639624      0.601064\n",
              "..        ...       ...       ...           ...\n",
              "345  0.090480  0.973753  0.110463      0.973404\n",
              "346  0.091122  0.981627  0.110393      0.973404\n",
              "347  0.088624  0.976378  0.110549      0.973404\n",
              "348  0.091695  0.973753  0.110640      0.973404\n",
              "349  0.083174  0.973753  0.111188      0.973404\n",
              "\n",
              "[350 rows x 4 columns]"
            ]
          },
          "metadata": {},
          "execution_count": 69
        }
      ]
    },
    {
      "cell_type": "code",
      "metadata": {
        "colab": {
          "base_uri": "https://localhost:8080/",
          "height": 282
        },
        "id": "qA7fGEQlsv6H",
        "outputId": "1e888d2c-a09b-4e4d-c6f7-0627b5bdcfda"
      },
      "source": [
        "losses[['val_accuracy', 'accuracy']].plot()"
      ],
      "execution_count": null,
      "outputs": [
        {
          "output_type": "execute_result",
          "data": {
            "text/plain": [
              "<matplotlib.axes._subplots.AxesSubplot at 0x7f27b30ba490>"
            ]
          },
          "metadata": {},
          "execution_count": 70
        },
        {
          "output_type": "display_data",
          "data": {
            "image/png": "[encoded data removed]",
            "text/plain": [
              "<Figure size 432x288 with 1 Axes>"
            ]
          },
          "metadata": {
            "needs_background": "light"
          }
        }
      ]
    },
    {
      "cell_type": "code",
      "metadata": {
        "colab": {
          "base_uri": "https://localhost:8080/",
          "height": 282
        },
        "id": "gGaKtCmdszY1",
        "outputId": "f382e02a-16cd-46b2-8245-e8160d538c9b"
      },
      "source": [
        "losses[['val_loss', 'loss']].plot()"
      ],
      "execution_count": null,
      "outputs": [
        {
          "output_type": "execute_result",
          "data": {
            "text/plain": [
              "<matplotlib.axes._subplots.AxesSubplot at 0x7f27b316ecd0>"
            ]
          },
          "metadata": {},
          "execution_count": 71
        },
        {
          "output_type": "display_data",
          "data": {
            "image/png": "[encoded data removed]",
            "text/plain": [
              "<Figure size 432x288 with 1 Axes>"
            ]
          },
          "metadata": {
            "needs_background": "light"
          }
        }
      ]
    },
    {
      "cell_type": "code",
      "metadata": {
        "id": "e8_zeSZ7s2Wr"
      },
      "source": [
        "preds = model.predict(X_test)"
      ],
      "execution_count": null,
      "outputs": []
    },
    {
      "cell_type": "code",
      "metadata": {
        "id": "72hznSIcs6Vz"
      },
      "source": [
        "predictions = np.argmax(preds, axis=1)"
      ],
      "execution_count": null,
      "outputs": []
    },
    {
      "cell_type": "code",
      "metadata": {
        "colab": {
          "base_uri": "https://localhost:8080/"
        },
        "id": "Sd9CMhUFs9Rw",
        "outputId": "30769b55-0d51-4573-d63a-9c4cc906c449"
      },
      "source": [
        "predictions.shape"
      ],
      "execution_count": null,
      "outputs": [
        {
          "output_type": "execute_result",
          "data": {
            "text/plain": [
              "(188,)"
            ]
          },
          "metadata": {},
          "execution_count": 74
        }
      ]
    },
    {
      "cell_type": "code",
      "metadata": {
        "colab": {
          "base_uri": "https://localhost:8080/"
        },
        "id": "0sS8kJnzs-fY",
        "outputId": "dd38ffd5-27df-49c9-e32b-de0f7341aee7"
      },
      "source": [
        "y_test.shape"
      ],
      "execution_count": null,
      "outputs": [
        {
          "output_type": "execute_result",
          "data": {
            "text/plain": [
              "(188,)"
            ]
          },
          "metadata": {},
          "execution_count": 75
        }
      ]
    },
    {
      "cell_type": "code",
      "metadata": {
        "id": "MZWwwZqCs_UV"
      },
      "source": [
        "from sklearn.metrics import classification_report, confusion_matrix"
      ],
      "execution_count": null,
      "outputs": []
    },
    {
      "cell_type": "code",
      "metadata": {
        "colab": {
          "base_uri": "https://localhost:8080/"
        },
        "id": "VrVaTNN0tDNL",
        "outputId": "41440e96-716b-4d6c-d785-a27a775482a2"
      },
      "source": [
        "print(classification_report(y_test, predictions))"
      ],
      "execution_count": null,
      "outputs": [
        {
          "output_type": "stream",
          "text": [
            "              precision    recall  f1-score   support\n",
            "\n",
            "           0       0.60      1.00      0.75       113\n",
            "           1       0.00      0.00      0.00        75\n",
            "\n",
            "    accuracy                           0.60       188\n",
            "   macro avg       0.30      0.50      0.38       188\n",
            "weighted avg       0.36      0.60      0.45       188\n",
            "\n"
          ],
          "name": "stdout"
        },
        {
          "output_type": "stream",
          "text": [
            "/usr/local/lib/python3.7/dist-packages/sklearn/metrics/_classification.py:1272: UndefinedMetricWarning: Precision and F-score are ill-defined and being set to 0.0 in labels with no predicted samples. Use `zero_division` parameter to control this behavior.\n",
            "  _warn_prf(average, modifier, msg_start, len(result))\n"
          ],
          "name": "stderr"
        }
      ]
    },
    {
      "cell_type": "code",
      "metadata": {
        "id": "eHJuinD6t4qu"
      },
      "source": [
        "from sklearn.metrics import auc, roc_curve"
      ],
      "execution_count": null,
      "outputs": []
    },
    {
      "cell_type": "code",
      "metadata": {
        "id": "tpJv85omtGR1"
      },
      "source": [
        "from sklearn.ensemble import RandomForestClassifier"
      ],
      "execution_count": null,
      "outputs": []
    },
    {
      "cell_type": "code",
      "metadata": {
        "id": "qcim-e_GuEJm"
      },
      "source": [
        "def metrics(target, pred):\n",
        "  fpr,tpr,threshold = roc_curve(target,pred)\n",
        "  return auc(fpr,tpr)"
      ],
      "execution_count": null,
      "outputs": []
    },
    {
      "cell_type": "code",
      "metadata": {
        "id": "-krc0JHlt73t"
      },
      "source": [
        "Rf = RandomForestClassifier()\n",
        "model_Rf = Rf.fit(X_train, y_train)\n",
        "preds = model_Rf.predict(X_test)"
      ],
      "execution_count": null,
      "outputs": []
    },
    {
      "cell_type": "code",
      "metadata": {
        "colab": {
          "base_uri": "https://localhost:8080/"
        },
        "id": "ru31qfmPuDXt",
        "outputId": "c35f25d5-9458-4388-ead5-7630f9927712"
      },
      "source": [
        "print(metrics(y_test, preds))"
      ],
      "execution_count": null,
      "outputs": [
        {
          "output_type": "stream",
          "text": [
            "0.9444837758112095\n"
          ],
          "name": "stdout"
        }
      ]
    },
    {
      "cell_type": "code",
      "metadata": {
        "colab": {
          "base_uri": "https://localhost:8080/"
        },
        "id": "gHUGxRSnuWs5",
        "outputId": "a8819a06-f18a-4854-a838-af191a8f23b5"
      },
      "source": [
        "print(classification_report(y_test, preds))"
      ],
      "execution_count": null,
      "outputs": [
        {
          "output_type": "stream",
          "text": [
            "              precision    recall  f1-score   support\n",
            "\n",
            "           0       0.94      0.98      0.96       113\n",
            "           1       0.97      0.91      0.94        75\n",
            "\n",
            "    accuracy                           0.95       188\n",
            "   macro avg       0.96      0.94      0.95       188\n",
            "weighted avg       0.95      0.95      0.95       188\n",
            "\n"
          ],
          "name": "stdout"
        }
      ]
    },
    {
      "cell_type": "code",
      "metadata": {
        "id": "8jEGy4_nub6u"
      },
      "source": [
        "import pickle\n",
        "\n",
        "Rf = RandomForestClassifier()\n",
        "model_Rf = Rf.fit(X_train, y_train)\n",
        "\n",
        "filename = 'Breast_Cancer_Detector_using_Clinical_records.sav'\n",
        "pickle.dump(model_Rf, open(filename, 'wb'))"
      ],
      "execution_count": null,
      "outputs": []
    },
    {
      "cell_type": "code",
      "metadata": {
        "id": "vgTn2HGQulpR"
      },
      "source": [],
      "execution_count": null,
      "outputs": []
    },
    {
      "cell_type": "code",
      "metadata": {
        "id": "EVpRNfTAupux"
      },
      "source": [
        "from sklearn.neighbors import KNeighborsClassifier"
      ],
      "execution_count": null,
      "outputs": []
    },
    {
      "cell_type": "code",
      "metadata": {
        "id": "ZcT8e9xguse9"
      },
      "source": [
        "error_rate = []\n",
        "for i in range(1,100):\n",
        "  KNN = KNeighborsClassifier(n_neighbors=i)\n",
        "  Model = KNN.fit(X_train, y_train)\n",
        "  preds = Model.predict(X_test)\n",
        "  error_rate.append(np.mean(preds!=y_test))"
      ],
      "execution_count": null,
      "outputs": []
    },
    {
      "cell_type": "code",
      "metadata": {
        "colab": {
          "base_uri": "https://localhost:8080/",
          "height": 421
        },
        "id": "EYYIFJXSvGmS",
        "outputId": "0495cc55-5440-40f7-ce0c-82f22949cfb2"
      },
      "source": [
        "plt.figure(figsize=(12,6))\n",
        "plt.plot(range(1,100),error_rate,color='blue',linestyle='--',marker='o',markerfacecolor='red',markersize=10)\n",
        "plt.title('Error Rate vs K value')\n",
        "plt.xlabel('K Value')\n",
        "plt.ylabel('Error Rate')"
      ],
      "execution_count": null,
      "outputs": [
        {
          "output_type": "execute_result",
          "data": {
            "text/plain": [
              "Text(0, 0.5, 'Error Rate')"
            ]
          },
          "metadata": {},
          "execution_count": 95
        },
        {
          "output_type": "display_data",
          "data": {
            "image/png": "[encoded data removed]",
            "text/plain": [
              "<Figure size 864x432 with 1 Axes>"
            ]
          },
          "metadata": {
            "needs_background": "light"
          }
        }
      ]
    },
    {
      "cell_type": "code",
      "metadata": {
        "id": "TDCrFooxvVNb"
      },
      "source": [
        "error_rate = []\n",
        "for i in range(20,30):\n",
        "  KNN = KNeighborsClassifier(n_neighbors=i)\n",
        "  Model = KNN.fit(X_train, y_train)\n",
        "  preds = Model.predict(X_test)\n",
        "  error_rate.append(np.mean(preds!=y_test))"
      ],
      "execution_count": null,
      "outputs": []
    },
    {
      "cell_type": "code",
      "metadata": {
        "colab": {
          "base_uri": "https://localhost:8080/",
          "height": 421
        },
        "id": "FrQhWGBOvZZ5",
        "outputId": "e4cb3c75-3ffd-4e0f-bdb5-af90816e20b0"
      },
      "source": [
        "plt.figure(figsize=(12,6))\n",
        "plt.plot(range(20,30),error_rate,color='blue',linestyle='--',marker='o',markerfacecolor='red',markersize=10)\n",
        "plt.title('Error Rate vs K value')\n",
        "plt.xlabel('K Value')\n",
        "plt.ylabel('Error Rate')"
      ],
      "execution_count": null,
      "outputs": [
        {
          "output_type": "execute_result",
          "data": {
            "text/plain": [
              "Text(0, 0.5, 'Error Rate')"
            ]
          },
          "metadata": {},
          "execution_count": 98
        },
        {
          "output_type": "display_data",
          "data": {
            "image/png": "[encoded data removed]",
            "text/plain": [
              "<Figure size 864x432 with 1 Axes>"
            ]
          },
          "metadata": {
            "needs_background": "light"
          }
        }
      ]
    },
    {
      "cell_type": "code",
      "metadata": {
        "id": "w8TdSEDFvbhC"
      },
      "source": [
        "KNN = KNeighborsClassifier(n_neighbors=23)\n",
        "Model = KNN.fit(X_train, y_train)\n",
        "preds = Model.predict(X_test)"
      ],
      "execution_count": null,
      "outputs": []
    },
    {
      "cell_type": "code",
      "metadata": {
        "colab": {
          "base_uri": "https://localhost:8080/"
        },
        "id": "vy4AhU-Bvndp",
        "outputId": "f9d333a8-a31f-4d7d-cdbf-dbb252b6c18f"
      },
      "source": [
        "preds"
      ],
      "execution_count": null,
      "outputs": [
        {
          "output_type": "execute_result",
          "data": {
            "text/plain": [
              "array([1, 0, 0, 0, 0, 0, 0, 1, 0, 1, 1, 1, 1, 1, 0, 1, 0, 0, 0, 0, 1, 1,\n",
              "       0, 1, 0, 0, 0, 0, 1, 0, 1, 0, 1, 0, 0, 1, 0, 0, 0, 0, 0, 0, 0, 1,\n",
              "       0, 0, 0, 0, 0, 1, 0, 1, 1, 1, 1, 0, 1, 0, 0, 1, 0, 0, 0, 1, 1, 0,\n",
              "       0, 1, 0, 1, 1, 0, 0, 0, 0, 1, 1, 0, 0, 0, 0, 0, 1, 0, 0, 1, 0, 0,\n",
              "       1, 0, 0, 0, 0, 0, 0, 1, 0, 0, 1, 0, 1, 1, 1, 1, 0, 0, 0, 1, 1, 0,\n",
              "       1, 0, 0, 0, 1, 1, 1, 0, 0, 0, 1, 0, 0, 1, 1, 1, 1, 0, 1, 1, 1, 1,\n",
              "       1, 0, 1, 1, 0, 0, 0, 1, 0, 0, 0, 0, 0, 1, 0, 0, 0, 0, 0, 1, 1, 1,\n",
              "       0, 1, 0, 0, 1, 0, 1, 0, 0, 0, 1, 0, 0, 0, 1, 1, 0, 0, 0, 0, 1, 0,\n",
              "       1, 0, 0, 1, 0, 0, 0, 1, 0, 1, 0, 0], dtype=uint8)"
            ]
          },
          "metadata": {},
          "execution_count": 106
        }
      ]
    },
    {
      "cell_type": "code",
      "metadata": {
        "colab": {
          "base_uri": "https://localhost:8080/"
        },
        "id": "PlNSB8uVvrEc",
        "outputId": "ee101176-7d44-4536-8d9b-ab6f32413044"
      },
      "source": [
        "print(classification_report(y_test, preds))"
      ],
      "execution_count": null,
      "outputs": [
        {
          "output_type": "stream",
          "text": [
            "              precision    recall  f1-score   support\n",
            "\n",
            "           0       0.98      1.00      0.99       113\n",
            "           1       1.00      0.97      0.99        75\n",
            "\n",
            "    accuracy                           0.99       188\n",
            "   macro avg       0.99      0.99      0.99       188\n",
            "weighted avg       0.99      0.99      0.99       188\n",
            "\n"
          ],
          "name": "stdout"
        }
      ]
    },
    {
      "cell_type": "code",
      "metadata": {
        "id": "Nlusgl4Svuw5"
      },
      "source": [
        "import pickle\n",
        "\n",
        "kNN = KNeighborsClassifier(n_neighbors=46)\n",
        "kNN.fit(X_train,y_train)\n",
        "\n",
        "# Its important to use binary mode\n",
        "knnPickle = open('Breast_cancer_using_clinical_records', 'wb')\n",
        "\n",
        "# source, destination\n",
        "pickle.dump(KNN, knnPickle)"
      ],
      "execution_count": null,
      "outputs": []
    },
    {
      "cell_type": "code",
      "metadata": {
        "id": "WQCSwz7kwVxo"
      },
      "source": [],
      "execution_count": null,
      "outputs": []
    }
  ]
}